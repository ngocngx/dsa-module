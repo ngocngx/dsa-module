{
 "cells": [
  {
   "attachments": {},
   "cell_type": "markdown",
   "metadata": {},
   "source": [
    "Nguyễn Vũ Ánh Ngọc - DSEB63 - 11214369"
   ]
  },
  {
   "attachments": {},
   "cell_type": "markdown",
   "metadata": {},
   "source": [
    "## Problem 1: OOP fundamentals"
   ]
  },
  {
   "attachments": {},
   "cell_type": "markdown",
   "metadata": {},
   "source": [
    "### 1. What are object-oriented design goals? Give brief explanations about them.\n",
    "- Robustness: ability to handle unexpected inputs that are not explicitly defined for its application.\n",
    "- Adaptability: ability to evolve over time in response to changing conditions in its environment.\n",
    "- Reusability: the same code should be usable as a component of different systems in various applications.\n",
    "### 2. What are object-oriented design principles? Give brief explanations about them.\n",
    "- Modularity: different components of a program should be divided into separate functional units.\n",
    "- Abstraction: hiding internal implementation and showing only the required features or set of services that are offered.\n",
    "- Encapsulation: enclose data by containing it within an object.\n",
    "### 3. How to choose names for a class, its member functions and class-level constants?\n",
    "- Class: noun, capitalized.\n",
    "- Function: verb, lowercased.\n",
    "- Class-level constants: noun, lowercased.\n",
    "### 4. What is docstring? What information does it provide?\n",
    "- Python docstrings are the string literals that appear right after the definition of a function, method, class, or module.\n",
    "- Docstrings for functions:\n",
    "    - The docstring for a function or method should summarize its behavior and document its arguments and return values.\n",
    "    - It should also list all the exceptions that can be raised and other optional arguments.\n",
    "- Docstrings for classes:\n",
    "    - The docstrings for classes should summarize its behavior and list the public methods and instance variables.\n",
    "    - The subclasses, constructors, and methods should each have their own docstrings."
   ]
  },
  {
   "attachments": {},
   "cell_type": "markdown",
   "metadata": {},
   "source": [
    "## Problem 2: Constructing a basic class"
   ]
  },
  {
   "cell_type": "code",
   "execution_count": 1,
   "metadata": {},
   "outputs": [],
   "source": [
    "class Car:\n",
    "    def __init__(self, brand, model, year, price):\n",
    "        self._brand = brand\n",
    "        self._model = model\n",
    "        self._year = year\n",
    "        self._price = price\n",
    "    \n",
    "    def get_brand(self):\n",
    "        return self._brand\n",
    "    \n",
    "    def get_model(self):\n",
    "        return self._model\n",
    "\n",
    "    def get_year(self):\n",
    "        return self._year\n",
    "    \n",
    "    def get_price(self):\n",
    "        return self._price\n",
    "    \n",
    "    def __repr__(self):\n",
    "        return f\"\"\"\n",
    "        Car Information:\n",
    "        - Brand: {self._brand}\n",
    "        - Model: {self._model}\n",
    "        - Year of manufacturing: {self._year}\n",
    "        - Price: ${self._price}\"\"\"\n",
    "    \n",
    "    def update_price(self, new_price):\n",
    "        self._price = new_price"
   ]
  },
  {
   "cell_type": "code",
   "execution_count": 2,
   "metadata": {},
   "outputs": [
    {
     "name": "stdout",
     "output_type": "stream",
     "text": [
      "\n",
      "        Car Information:\n",
      "        - Brand: Lamborghini\n",
      "        - Model: Huracan STO\n",
      "        - Year of manufacturing: 2021\n",
      "        - Price: $367838\n"
     ]
    }
   ],
   "source": [
    "lambo = Car('Lamborghini', 'Huracan STO', 2021, 367_000)\n",
    "lambo.update_price(367_838)\n",
    "print(lambo)"
   ]
  },
  {
   "attachments": {},
   "cell_type": "markdown",
   "metadata": {},
   "source": [
    "## Problem 3 - 4: Class Inheritance & Overloading"
   ]
  },
  {
   "cell_type": "code",
   "execution_count": 3,
   "metadata": {},
   "outputs": [],
   "source": [
    "class Person:\n",
    "    def __init__(self, name, id, age, gender):\n",
    "        self._name = self.validate_name(name)\n",
    "        self._id = self.validate_id(id)\n",
    "        self._age = self.validate_age(age)\n",
    "        self._gender = self.validate_gender(gender)\n",
    "\n",
    "    def __repr__(self) -> str:\n",
    "        return f\"\\nName: {self._name}\\nID: {self._id}\\nAge: {self._age}\\nGender: {self._gender}\"\n",
    "\n",
    "    def validate_name(self, name):\n",
    "        if type(name) == str:\n",
    "            return name\n",
    "        else:\n",
    "            print('Name only accepts input of string data type.')\n",
    "    \n",
    "    def validate_id(self, id):\n",
    "        try:\n",
    "            id = int(id)\n",
    "            if id>0:\n",
    "                return id\n",
    "            else:\n",
    "                print('ID must be positive integers.')\n",
    "        except ValueError:\n",
    "            print('ID must be positive integers.')\n",
    "    \n",
    "    def validate_age(self, age):\n",
    "        try:\n",
    "            age = int(age)\n",
    "            if age>=0:\n",
    "                return age\n",
    "            else:\n",
    "                print('Age must be a non negative number.')\n",
    "        except ValueError:\n",
    "            print('Age must be a non negative number.')\n",
    "    \n",
    "    def validate_gender(self, gender):\n",
    "        if gender not in ('Male', 'Female'):\n",
    "            print(\"Gender must be 'Male' or 'Female'.\")\n",
    "        else:\n",
    "            return gender\n",
    "    "
   ]
  },
  {
   "cell_type": "code",
   "execution_count": 4,
   "metadata": {},
   "outputs": [
    {
     "name": "stdout",
     "output_type": "stream",
     "text": [
      "ID must be positive integers.\n",
      "Age must be a non negative number.\n",
      "\n",
      "Name: Ngoc\n",
      "ID: None\n",
      "Age: None\n",
      "Gender: Female\n"
     ]
    }
   ],
   "source": [
    "n = Person('Ngoc', '-112143', -2, 'Female')\n",
    "print(n)"
   ]
  },
  {
   "cell_type": "code",
   "execution_count": 5,
   "metadata": {},
   "outputs": [],
   "source": [
    "class Student(Person):\n",
    "    student_list = []\n",
    "    \n",
    "    def __init__(self, name, id, age, gender, stu_id, gpa):\n",
    "        super().__init__(name, id, age, gender)\n",
    "        self._stu_id = self.validate_stu_id(stu_id)\n",
    "        self._gpa = self.validate_gpa(gpa)\n",
    "        self.pack = [self._name, self._id, self._age, self._gender, self._stu_id, self._gpa]\n",
    "        self.student_list.append(self.pack)\n",
    "    \n",
    "    def validate_stu_id(self, stu_id):\n",
    "        if type(stu_id) == str:\n",
    "            return stu_id\n",
    "        else:\n",
    "            print('Student ID must be input of string data type.')\n",
    "    \n",
    "    def validate_gpa(self, gpa):\n",
    "        try:\n",
    "            gpa = float(gpa)\n",
    "            if 0 <= gpa <= 10.0:\n",
    "                return gpa\n",
    "            else:\n",
    "                print('GPA must be a number no less than 0 and no greater than 10')\n",
    "        except ValueError:\n",
    "            print('GPA must be a number no less than 0 and no greater than 10')\n",
    "    \n",
    "    def get_stu_id(self):\n",
    "        return self._stu_id\n",
    "    \n",
    "    def convert(self):\n",
    "        gpa = self._gpa\n",
    "        table1 = {'A+': 9.0, 'A': 8.5, 'B+': 8.0, 'B': 7.0,'C+': 6.5, 'C': 5.5, 'D+':5.5, 'D': 4.5, 'F': 0}\n",
    "        table2 = {'A+': 4.0, 'A': 4.0, 'B+': 3.5, 'B': 3.0,'C+': 2.5, 'C': 2.0, 'D+':1.5, 'D': 1.0, 'F': 0}\n",
    "        \n",
    "        gpa1 = ''\n",
    "        for i in table1.values():\n",
    "            while gpa<i:\n",
    "                break\n",
    "            if gpa>=i:\n",
    "                for letter in table1.keys():\n",
    "                    if table1[letter] == i:\n",
    "                        gpa1 = letter\n",
    "                break\n",
    "        \n",
    "        gpa2 = table2[gpa1]\n",
    "\n",
    "        # print(f\"\"\"\n",
    "        # Grade in 3 scales:\n",
    "        # - 10.0 scale: {gpa}\n",
    "        # - 4.0 scale: {gpa1}\n",
    "        # - Letter grade: {gpa2}\"\"\")\n",
    "\n",
    "        return gpa, gpa1, gpa2\n",
    "    \n",
    "    def __getitem__(self, keyword):\n",
    "        for i in range(len(self.student_list)):\n",
    "            if self.student_list[i][4] == keyword:\n",
    "                name, id, age, gender, stu_id, gpa = self.student_list[i]\n",
    "                return Student(name, id, age, gender, stu_id, gpa)\n",
    "        \n",
    "        print('Not found.')"
   ]
  },
  {
   "cell_type": "code",
   "execution_count": 9,
   "metadata": {},
   "outputs": [
    {
     "name": "stdout",
     "output_type": "stream",
     "text": [
      "\n",
      "Name: Tam\n",
      "ID: 114\n",
      "Age: 19\n",
      "Gender: Female\n"
     ]
    }
   ],
   "source": [
    "s1 = Student('Ngoc', 111, 19, 'Female', '11214369', 8.9)\n",
    "s2 = Student('Mai', 112, 19, 'Female', '11213717', 9.29)\n",
    "s3 = Student('An', 113, 19,'Male', '11210261', 9.14)\n",
    "s4 = Student('Tam', 114, 19, 'Female', '11215226', 9.19)\n",
    "s5 = Student('Duong', 115, 19, 'Male', '11219267', 9.11)\n",
    "\n",
    "print(s5['11215226'])"
   ]
  }
 ],
 "metadata": {
  "kernelspec": {
   "display_name": "Python 3",
   "language": "python",
   "name": "python3"
  },
  "language_info": {
   "codemirror_mode": {
    "name": "ipython",
    "version": 3
   },
   "file_extension": ".py",
   "mimetype": "text/x-python",
   "name": "python",
   "nbconvert_exporter": "python",
   "pygments_lexer": "ipython3",
   "version": "3.10.8"
  },
  "orig_nbformat": 4,
  "vscode": {
   "interpreter": {
    "hash": "aee8b7b246df8f9039afb4144a1f6fd8d2ca17a180786b69acc140d282b71a49"
   }
  }
 },
 "nbformat": 4,
 "nbformat_minor": 2
}
