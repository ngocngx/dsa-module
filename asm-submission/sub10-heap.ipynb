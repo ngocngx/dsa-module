{
 "cells": [
  {
   "attachments": {},
   "cell_type": "markdown",
   "metadata": {},
   "source": [
    "Nguyễn Vũ Ánh Ngọc - DSEB63 - 11214369"
   ]
  },
  {
   "attachments": {},
   "cell_type": "markdown",
   "metadata": {},
   "source": [
    "# Problem 1: Contruct a Min Binary Heap"
   ]
  },
  {
   "cell_type": "code",
   "execution_count": 1,
   "metadata": {},
   "outputs": [],
   "source": [
    "class Empty(Exception):\n",
    "    pass \n",
    "\n",
    "\n",
    "class Item:\n",
    "    \"\"\" Item in Heap \"\"\"\n",
    "\n",
    "    def __init__(self, key, value):\n",
    "        self.key = key\n",
    "        self.val = value\n",
    "\n",
    "    def __lt__(self, other):\n",
    "        return self.key < other.key\n",
    "\n",
    "    def __gt__(self, other):\n",
    "        return self.key > other.key\n",
    "\n",
    "    def __eq__(self, other):\n",
    "        return self.key == other.key\n",
    "\n",
    "    def __str__(self):\n",
    "        return str((self.key, self.val))\n",
    "\n",
    "\n",
    "class MinHeap:\n",
    "    def __init__(self):\n",
    "        self._data = []\n",
    "\n",
    "    def __len__(self):\n",
    "        return len(self._data)\n",
    "\n",
    "    def is_empty(self):\n",
    "        return len(self._data) == 0\n",
    "\n",
    "    def _parent(self, k):\n",
    "        if not(k >= 0 and type(k) == int):\n",
    "            raise ValueError(\"k must be a positive integer\")\n",
    "\n",
    "        return (k - 1) // 2\n",
    "\n",
    "    def _left(self, k):\n",
    "        if not(k >= 0 and type(k) == int):\n",
    "            raise ValueError(\"k must be a positive integer\")\n",
    "\n",
    "        return 2*k + 1\n",
    "\n",
    "    def _right(self, k):\n",
    "        if not(k >= 0 and type(k) == int):\n",
    "            raise ValueError(\"k must be a positive integer\")\n",
    "\n",
    "        return 2*k + 2\n",
    "\n",
    "    def _has_left(self, k):\n",
    "        if not(k >= 0 and type(k) == int):\n",
    "            raise ValueError(\"k must be a positive integer\")\n",
    "\n",
    "        return self._left(k) < len(self._data)\n",
    "\n",
    "    def _has_right(self, k):\n",
    "        if not(k >= 0 and type(k) == int):\n",
    "            raise ValueError(\"k must be a positive integer\")\n",
    "\n",
    "        return self._right(k) < len(self._data)\n",
    "\n",
    "    def _swap(self, i, j):\n",
    "        self._data[i], self._data[j] = self._data[j], self._data[i]\n",
    "\n",
    "    def _sift_up(self, k):\n",
    "        parent = self._parent(k)\n",
    "\n",
    "        if k > 0 and self._data[k] < self._data[parent]:\n",
    "            self._swap(k, parent)\n",
    "            self._sift_up(parent)\n",
    "\n",
    "    def add(self, new_item: Item):\n",
    "        for i in range(len(self._data)):\n",
    "            if self._data[i] == new_item:\n",
    "                cue = input(\"The key already exists. Do you want to update the value? (y/n) \")\n",
    "                if cue.lower() == 'y':\n",
    "                    self._data[i] = new_item\n",
    "                    self._sift_up(i)\n",
    "                return\n",
    "\n",
    "        self._data.append(new_item)\n",
    "        self._sift_up(len(self._data) - 1)\n",
    "\n",
    "    def get_min(self):\n",
    "        if not self.is_empty():\n",
    "            return self._data[0]\n",
    "\n",
    "    def _sift_down(self, k: int):\n",
    "        while True:\n",
    "            left = self._left(k)\n",
    "            right = self._right(k)\n",
    "            smallest = k\n",
    "\n",
    "            if left < len(self._data) and self._data[left] < self._data[smallest]:\n",
    "                smallest = left\n",
    "            if right < len(self._data) and self._data[right] < self._data[smallest]:\n",
    "                smallest = right\n",
    "\n",
    "            if smallest != k:\n",
    "                self._swap(k, smallest)\n",
    "                k = smallest\n",
    "            else:\n",
    "                break\n",
    "\n",
    "    def remove_min(self):\n",
    "        if not self.is_empty():\n",
    "            min_item = self._data[0]\n",
    "            self._data[0] = self._data[-1]\n",
    "            del self._data[-1]\n",
    "            self._sift_down(0)\n",
    "            return min_item\n",
    "\n",
    "    def heapify(self, size, i):\n",
    "        left = self._left(i)\n",
    "        right = self._right(i)\n",
    "        smallest = i\n",
    "\n",
    "        if left < size and self._data[left] < self._data[smallest]:\n",
    "            smallest = left\n",
    "\n",
    "        if right < size and self._data[right] < self._data[smallest]:\n",
    "            smallest = right\n",
    "\n",
    "        if smallest != i:\n",
    "            self._swap(i, smallest)\n",
    "            self.heapify(size, smallest)\n",
    "\n",
    "    def max_heap_sort(self):\n",
    "        for i in range(len(self) - 1, -1, -1):\n",
    "            self._swap(0, i)\n",
    "            self.heapify(i, 0)\n",
    "\n",
    "    def __str__(self):\n",
    "        str_data = [str(item) for item in self._data]\n",
    "        return ', '.join(str_data)\n"
   ]
  },
  {
   "cell_type": "code",
   "execution_count": 2,
   "metadata": {},
   "outputs": [
    {
     "name": "stdout",
     "output_type": "stream",
     "text": [
      "(0, 'D'), (1, 'S'), (5, 'S'), (4, 'B'), (2, 'E'), (8, 'U'), (9, 'B'), (7, 'A'), (10, 'A')\n"
     ]
    }
   ],
   "source": [
    "heap = MinHeap()\n",
    "for item in (2, 'E'), (7, 'A'), (5, 'S'), (1, 'S'), (0, 'D'), (8, 'U'), (9, 'B'), (4, 'B'), (10, 'A'):\n",
    "    key, val = item\n",
    "    heap.add(Item(key, val))\n",
    "\n",
    "print(heap)"
   ]
  },
  {
   "cell_type": "code",
   "execution_count": 3,
   "metadata": {},
   "outputs": [
    {
     "name": "stdout",
     "output_type": "stream",
     "text": [
      "(0, 'D')\n",
      "(1, 'S'), (2, 'E'), (5, 'S'), (4, 'B'), (10, 'A'), (8, 'U'), (9, 'B'), (7, 'A')\n",
      "(1, 'S')\n",
      "(2, 'E'), (4, 'B'), (5, 'S'), (7, 'A'), (10, 'A'), (8, 'U'), (9, 'B')\n"
     ]
    }
   ],
   "source": [
    "print(heap.remove_min())\n",
    "print(heap)\n",
    "print(heap.remove_min())\n",
    "print(heap)"
   ]
  },
  {
   "cell_type": "code",
   "execution_count": 4,
   "metadata": {},
   "outputs": [
    {
     "name": "stdout",
     "output_type": "stream",
     "text": [
      "(2, 'E'), (4, 'B'), (5, 'S'), (7, 'A'), (10, 'A'), (8, 'U'), (9, 'B')\n"
     ]
    }
   ],
   "source": [
    "heap.add(Item(5, 'J'))\n",
    "print(heap)"
   ]
  },
  {
   "cell_type": "code",
   "execution_count": 5,
   "metadata": {},
   "outputs": [
    {
     "name": "stdout",
     "output_type": "stream",
     "text": [
      "(10, 'A'), (9, 'B'), (8, 'U'), (7, 'A'), (5, 'S'), (4, 'B'), (2, 'E')\n"
     ]
    }
   ],
   "source": [
    "heap.max_heap_sort()\n",
    "print(heap)"
   ]
  },
  {
   "attachments": {},
   "cell_type": "markdown",
   "metadata": {},
   "source": [
    "# Problem 2: Median of A Numeric Array"
   ]
  },
  {
   "cell_type": "code",
   "execution_count": 6,
   "metadata": {},
   "outputs": [],
   "source": [
    "class BinaryHeap:\n",
    "    def __init__(self):\n",
    "        self.max_heap = []\n",
    "        self.min_heap = []\n",
    "\n",
    "    def push(self, heap, num):\n",
    "        heap.append(num)\n",
    "        c = len(heap) - 1\n",
    "\n",
    "        while c > 0:\n",
    "            p = (c - 1) // 2\n",
    "            if heap[c] < heap[p]:\n",
    "                heap[c], heap[p] = heap[p], heap[c]\n",
    "                c = p\n",
    "            else:\n",
    "                break\n",
    "\n",
    "    def pop(self, heap):\n",
    "        if len(heap) == 0:\n",
    "            raise Empty('The heap is empty')\n",
    "\n",
    "        heap[0], heap[-1] = heap[-1], heap[0]\n",
    "        item = heap.pop()\n",
    "        i = 0\n",
    "\n",
    "        while i < len(heap):\n",
    "            left = 2 * i + 1\n",
    "            right = 2 * i + 2\n",
    "            smallest = i\n",
    "\n",
    "            if left < len(heap) and heap[left] < heap[smallest]:\n",
    "                smallest = left\n",
    "\n",
    "            if right < len(heap) and heap[right] < heap[smallest]:\n",
    "                smallest = right\n",
    "\n",
    "            if smallest != i:\n",
    "                heap[i], heap[smallest] = heap[smallest], heap[i]\n",
    "                i = smallest\n",
    "            else:\n",
    "                break\n",
    "\n",
    "        return item\n",
    "\n",
    "    def add_num(self, num):\n",
    "        if len(self.max_heap) == 0 or num < -self.max_heap[0]:\n",
    "            self.push(self.max_heap, -num)\n",
    "        else:\n",
    "            self.push(self.min_heap, num)\n",
    "\n",
    "        if len(self.max_heap) > len(self.min_heap) + 1:\n",
    "            self.push(self.min_heap, -self.pop(self.max_heap))\n",
    "        elif len(self.min_heap) > len(self.max_heap):\n",
    "            self.push(self.max_heap, -self.pop(self.min_heap))\n",
    "\n",
    "    def median(self):\n",
    "        if len(self.max_heap) == len(self.min_heap):\n",
    "            return (-self.max_heap[0] + self.min_heap[0]) / 2\n",
    "        else:\n",
    "            return -self.max_heap[0]"
   ]
  },
  {
   "cell_type": "code",
   "execution_count": 7,
   "metadata": {},
   "outputs": [
    {
     "data": {
      "text/plain": [
       "4"
      ]
     },
     "execution_count": 7,
     "metadata": {},
     "output_type": "execute_result"
    }
   ],
   "source": [
    "array1 = [0, 2, 5, 7, 9, 4, 3]\n",
    "\n",
    "heap1 = BinaryHeap()\n",
    "for i in array1:\n",
    "    heap1.add_num(i) \n",
    "\n",
    "heap1.median()"
   ]
  },
  {
   "cell_type": "code",
   "execution_count": 8,
   "metadata": {},
   "outputs": [
    {
     "data": {
      "text/plain": [
       "0.25"
      ]
     },
     "execution_count": 8,
     "metadata": {},
     "output_type": "execute_result"
    }
   ],
   "source": [
    "array2 = [0.5, -1, 3.25, -0.75, 2.5, 0]\n",
    "\n",
    "heap2 = BinaryHeap()\n",
    "for i in array2:\n",
    "    heap2.add_num(i) \n",
    "\n",
    "heap2.median()"
   ]
  },
  {
   "attachments": {},
   "cell_type": "markdown",
   "metadata": {},
   "source": [
    "# Optional Problem: Earning Assets"
   ]
  },
  {
   "cell_type": "code",
   "execution_count": 9,
   "metadata": {},
   "outputs": [
    {
     "name": "stdout",
     "output_type": "stream",
     "text": [
      "(['TC2', 'TC5', 'TC6', 'TC9'], 58)\n"
     ]
    }
   ],
   "source": [
    "def maximize_capital(expense: list, revenue: list, name: list, initial_cap, number_of_prj):\n",
    "    if not len(expense) == len(revenue) == len(name):\n",
    "        raise Exception()\n",
    "\n",
    "    projects = MinHeap()\n",
    "    aux = MinHeap()\n",
    "    res = []\n",
    "\n",
    "    for i in range(len(name)):\n",
    "        profit = revenue[i] - expense[i]\n",
    "        prj = Item(-profit, (expense[i], name[i]))\n",
    "        projects.add(prj)\n",
    "\n",
    "    while len(res) < number_of_prj:\n",
    "        item = projects.remove_min()\n",
    "        p, (e, n) = -item.key, item.val\n",
    "        if initial_cap >= e:\n",
    "            res.append(n)\n",
    "            initial_cap += p\n",
    "            while aux:\n",
    "                projects.add(aux.remove_min())\n",
    "        else:\n",
    "            aux.add(item)\n",
    "\n",
    "    return res, initial_cap\n",
    "\n",
    "\n",
    "name = ['TC1', 'TC2', 'TC3', 'TC4', 'TC5', 'TC6', 'TC7', 'TC8', 'TC9']\n",
    "expense = [2, 1, 9, 5, 4, 13, 41, 39, 15]\n",
    "revenue = [5, 5, 13, 10, 10, 36, 90, 79, 37]\n",
    "initial_cap = 3\n",
    "\n",
    "print(maximize_capital(expense, revenue, name, 3, 4))"
   ]
  }
 ],
 "metadata": {
  "kernelspec": {
   "display_name": "Python 3",
   "language": "python",
   "name": "python3"
  },
  "language_info": {
   "codemirror_mode": {
    "name": "ipython",
    "version": 3
   },
   "file_extension": ".py",
   "mimetype": "text/x-python",
   "name": "python",
   "nbconvert_exporter": "python",
   "pygments_lexer": "ipython3",
   "version": "3.10.8"
  },
  "orig_nbformat": 4
 },
 "nbformat": 4,
 "nbformat_minor": 2
}
