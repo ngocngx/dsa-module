{
 "cells": [
  {
   "cell_type": "markdown",
   "metadata": {},
   "source": [
    "Nguyễn Vũ Ánh Ngọc - DSEB63 - 11214369"
   ]
  },
  {
   "attachments": {},
   "cell_type": "markdown",
   "metadata": {},
   "source": [
    "# Problem 1: Separate Chaining method"
   ]
  },
  {
   "attachments": {},
   "cell_type": "markdown",
   "metadata": {},
   "source": [
    "### a. Implement a Hashing class with Separate Chaining method:"
   ]
  },
  {
   "cell_type": "code",
   "execution_count": 4,
   "metadata": {},
   "outputs": [],
   "source": [
    "class Node:\n",
    "    def __init__(self, data, next=None):\n",
    "        self.data = data\n",
    "        self.next = next\n",
    "\n",
    "    def __repr__(self):\n",
    "        return str(self.data)\n",
    "\n",
    "\n",
    "class SepChainHash:\n",
    "    def __init__(self, size):\n",
    "        self.size = size\n",
    "        self.table = [None] * size\n",
    "\n",
    "    def hash(self, key):\n",
    "        return key % self.size\n",
    "\n",
    "    def add(self, key, val):\n",
    "        index = self.hash(key)\n",
    "        node = self.table[index]\n",
    "\n",
    "        while node:\n",
    "            if node.data[0] == key:\n",
    "                node.data = (key, val)\n",
    "                return\n",
    "            node = node.next\n",
    "\n",
    "        self.table[index] = Node((key, val), self.table[index])\n",
    "\n",
    "    def __getitem__(self, key):\n",
    "        index = self.hash(key)\n",
    "        node = self.table[index]\n",
    "        while node:\n",
    "            if node.data[0] == key:\n",
    "                return node.data[1]\n",
    "            node = node.next\n",
    "        raise KeyError(f'{key} not found.')\n",
    "\n",
    "    def delete(self, key):\n",
    "        index = self.hash(key)\n",
    "        node = self.table[index]\n",
    "        prev = None\n",
    "\n",
    "        while node:\n",
    "            if node.data[0] == key:\n",
    "                if not prev:\n",
    "                    self.table[index] = node.next\n",
    "                else:\n",
    "                    prev.next = node.next\n",
    "                return\n",
    "\n",
    "            prev = node\n",
    "            node = node.next\n",
    "\n",
    "        raise KeyError(f'{key} not found.')\n",
    "\n",
    "    def __repr__(self):\n",
    "        res = 'Separate Chaining Hash:\\n'\n",
    "\n",
    "        for i in range(self.size):\n",
    "            node = self.table[i]\n",
    "            res += f'{i}: '\n",
    "            while node:\n",
    "                res += str(node) + ' ~ '\n",
    "                node = node.next\n",
    "            res += '\\n'\n",
    "\n",
    "        return res"
   ]
  },
  {
   "attachments": {},
   "cell_type": "markdown",
   "metadata": {},
   "source": [
    "### b. Check your implementation by performing these tasks:"
   ]
  },
  {
   "attachments": {},
   "cell_type": "markdown",
   "metadata": {},
   "source": [
    "Create a SepChainHash object with size 5 and add these items into the hash table:"
   ]
  },
  {
   "cell_type": "code",
   "execution_count": 5,
   "metadata": {},
   "outputs": [
    {
     "name": "stdout",
     "output_type": "stream",
     "text": [
      "Separate Chaining Hash:\n",
      "0: (10, 'r') ~ \n",
      "1: (1, 'b') ~ (6, 'p') ~ \n",
      "2: (2, ' n') ~ (12, 'h') ~ \n",
      "3: \n",
      "4: (4, 's') ~ \n",
      "\n"
     ]
    }
   ],
   "source": [
    "table = SepChainHash(5)\n",
    "for item in [(6, 'a'), (1, 'b'), (12, 'h'), (10, 'r'), (6, 'p'), (4, 's'), (2, ' n')]:\n",
    "    key, val = item\n",
    "    table.add(key, val)\n",
    "\n",
    "print(table)"
   ]
  },
  {
   "attachments": {},
   "cell_type": "markdown",
   "metadata": {},
   "source": [
    "Get the items with key 9 and 4."
   ]
  },
  {
   "cell_type": "code",
   "execution_count": 6,
   "metadata": {},
   "outputs": [],
   "source": [
    "# print(table[9])"
   ]
  },
  {
   "cell_type": "code",
   "execution_count": 7,
   "metadata": {},
   "outputs": [
    {
     "name": "stdout",
     "output_type": "stream",
     "text": [
      "s\n"
     ]
    }
   ],
   "source": [
    "print(table[4])"
   ]
  },
  {
   "cell_type": "code",
   "execution_count": 8,
   "metadata": {},
   "outputs": [
    {
     "name": "stdout",
     "output_type": "stream",
     "text": [
      "Separate Chaining Hash:\n",
      "0: (10, 'r') ~ \n",
      "1: (1, 'b') ~ \n",
      "2: (2, ' n') ~ (12, 'h') ~ \n",
      "3: \n",
      "4: (4, 's') ~ \n",
      "\n"
     ]
    }
   ],
   "source": [
    "table.delete(6)\n",
    "print(table)"
   ]
  },
  {
   "attachments": {},
   "cell_type": "markdown",
   "metadata": {},
   "source": [
    "# Problem 2: Linear Probing method"
   ]
  },
  {
   "attachments": {},
   "cell_type": "markdown",
   "metadata": {},
   "source": [
    "### a. Implement a Hashing class with Linear Probing method:"
   ]
  },
  {
   "cell_type": "code",
   "execution_count": 9,
   "metadata": {},
   "outputs": [],
   "source": [
    "class Full(Exception):\n",
    "    pass\n",
    "\n",
    "\n",
    "class LinProbHash:\n",
    "    def __init__(self, size):\n",
    "        self.size = size\n",
    "        self.table = [None] * size\n",
    "\n",
    "    def hash(self, key):\n",
    "        return key % self.size\n",
    "\n",
    "    def add(self, key, val):\n",
    "        index = self.hash(key)\n",
    "        k = index\n",
    "\n",
    "        while self.table[index]:\n",
    "            if self.table[index][0] == key:\n",
    "                self.table[index] = (key, val)\n",
    "                return\n",
    "            index = (index + 1) % self.size\n",
    "            if index == k:\n",
    "                raise Full('Hash is full.')\n",
    "\n",
    "        self.table[index] = (key, val)\n",
    "\n",
    "    def __getitem__(self, key):\n",
    "        index = self.hash(key)\n",
    "        while self.table[index]:\n",
    "            if self.table[index][0] == key:\n",
    "                return self.table[index][1]\n",
    "            index = (index + 1) % self.size\n",
    "        raise KeyError(f'{key} not found.')\n",
    "    \n",
    "    def delete(self, key):\n",
    "        index = self.hash(key)\n",
    "\n",
    "        while self.table[index]:\n",
    "            if self.table[index][0] == key:\n",
    "                self.table[index] = None\n",
    "                next_index = self.hash(index + 1)\n",
    "\n",
    "                # while self.table[next_index]:\n",
    "                #     if self.hash(self.table[next_index][0]) != next_index:\n",
    "                #         self.table[index] = self.table[next_index]\n",
    "                #         index = next_index\n",
    "                #         next_index = self.hash(next_index + 1)\n",
    "                #     else:\n",
    "                #         self.table[index] = None\n",
    "                #         break\n",
    "\n",
    "                while self.table[next_index]:\n",
    "                    k, v = self.table[next_index]\n",
    "                    self.table[next_index] = None\n",
    "                    self.add(k, v)\n",
    "                    next_index = (next_index + 1) % self.size\n",
    "\n",
    "                return\n",
    "\n",
    "            index = self.hash(index + 1)\n",
    "\n",
    "        raise KeyError(f'{key} not found.')\n",
    "\n",
    "    def __repr__(self):\n",
    "        str_data = [str(item) for item in self.table]\n",
    "        return ', '.join(str_data)"
   ]
  },
  {
   "cell_type": "code",
   "execution_count": 10,
   "metadata": {},
   "outputs": [
    {
     "name": "stdout",
     "output_type": "stream",
     "text": [
      "(8, 'd'), (21, 'j'), None, (3, 'd'), (11, 'a'), (19, 'p'), (6, 's'), (14, 'q')\n"
     ]
    }
   ],
   "source": [
    "table = LinProbHash(8)\n",
    "\n",
    "for key, val in [(6, 's'), (3, 'd'), (11, 'a'), (19, 'p'), (8, 'd'), (14, 'q'), (21, 'j')]:\n",
    "    table.add(key, val)\n",
    "print(table)"
   ]
  },
  {
   "cell_type": "code",
   "execution_count": 11,
   "metadata": {},
   "outputs": [
    {
     "name": "stdout",
     "output_type": "stream",
     "text": [
      "(8, 'd'), None, None, (3, 'd'), (19, 'p'), (21, 'j'), (6, 's'), (14, 'q')\n"
     ]
    }
   ],
   "source": [
    "table.delete(11)\n",
    "print(table)"
   ]
  },
  {
   "cell_type": "code",
   "execution_count": 12,
   "metadata": {},
   "outputs": [
    {
     "name": "stdout",
     "output_type": "stream",
     "text": [
      "(8, 'd'), None, None, (19, 'p'), None, (21, 'j'), (6, 's'), (14, 'q')\n"
     ]
    }
   ],
   "source": [
    "table.delete(3)\n",
    "print(table)"
   ]
  },
  {
   "cell_type": "code",
   "execution_count": 13,
   "metadata": {},
   "outputs": [
    {
     "name": "stdout",
     "output_type": "stream",
     "text": [
      "(8, 'd'), (16, 'l'), (0, 'o'), (19, 'p'), (9, 'a'), (21, 'j'), (6, 's'), (14, 'q')\n"
     ]
    }
   ],
   "source": [
    "for key, val in [(16, 'l'), (0, 'o'), (9, 'a')]:\n",
    "    table.add(key, val)\n",
    "print(table)"
   ]
  },
  {
   "cell_type": "code",
   "execution_count": 14,
   "metadata": {},
   "outputs": [
    {
     "ename": "Full",
     "evalue": "Hash is full.",
     "output_type": "error",
     "traceback": [
      "\u001b[0;31m---------------------------------------------------------------------------\u001b[0m",
      "\u001b[0;31mFull\u001b[0m                                      Traceback (most recent call last)",
      "Cell \u001b[0;32mIn[14], line 1\u001b[0m\n\u001b[0;32m----> 1\u001b[0m table\u001b[39m.\u001b[39;49madd(\u001b[39m4\u001b[39;49m, \u001b[39m'\u001b[39;49m\u001b[39ma\u001b[39;49m\u001b[39m'\u001b[39;49m)\n\u001b[1;32m      2\u001b[0m \u001b[39mprint\u001b[39m(table)\n",
      "Cell \u001b[0;32mIn[9], line 23\u001b[0m, in \u001b[0;36mLinProbHash.add\u001b[0;34m(self, key, val)\u001b[0m\n\u001b[1;32m     21\u001b[0m     index \u001b[39m=\u001b[39m (index \u001b[39m+\u001b[39m \u001b[39m1\u001b[39m) \u001b[39m%\u001b[39m \u001b[39mself\u001b[39m\u001b[39m.\u001b[39msize\n\u001b[1;32m     22\u001b[0m     \u001b[39mif\u001b[39;00m index \u001b[39m==\u001b[39m k:\n\u001b[0;32m---> 23\u001b[0m         \u001b[39mraise\u001b[39;00m Full(\u001b[39m'\u001b[39m\u001b[39mHash is full.\u001b[39m\u001b[39m'\u001b[39m)\n\u001b[1;32m     25\u001b[0m \u001b[39mself\u001b[39m\u001b[39m.\u001b[39mtable[index] \u001b[39m=\u001b[39m (key, val)\n",
      "\u001b[0;31mFull\u001b[0m: Hash is full."
     ]
    }
   ],
   "source": [
    "table.add(4, 'a')\n",
    "print(table)"
   ]
  },
  {
   "cell_type": "code",
   "execution_count": 15,
   "metadata": {},
   "outputs": [
    {
     "name": "stdout",
     "output_type": "stream",
     "text": [
      "(16, 'l'), (0, 'o'), (9, 'a'), (19, 'p'), None, (21, 'j'), (6, 's'), (14, 'q')\n"
     ]
    }
   ],
   "source": [
    "table.delete(8)\n",
    "print(table)"
   ]
  }
 ],
 "metadata": {
  "kernelspec": {
   "display_name": "Python 3",
   "language": "python",
   "name": "python3"
  },
  "language_info": {
   "codemirror_mode": {
    "name": "ipython",
    "version": 3
   },
   "file_extension": ".py",
   "mimetype": "text/x-python",
   "name": "python",
   "nbconvert_exporter": "python",
   "pygments_lexer": "ipython3",
   "version": "3.10.10"
  },
  "orig_nbformat": 4
 },
 "nbformat": 4,
 "nbformat_minor": 2
}
