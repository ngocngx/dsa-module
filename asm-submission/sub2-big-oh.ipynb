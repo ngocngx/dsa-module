{
 "cells": [
  {
   "attachments": {},
   "cell_type": "markdown",
   "metadata": {},
   "source": [
    "Nguyễn Vũ Ánh Ngọc - DSEB63 - 11214369"
   ]
  },
  {
   "attachments": {},
   "cell_type": "markdown",
   "metadata": {},
   "source": [
    "# Problem 1: Algorithm Analysis Fundamentals"
   ]
  },
  {
   "attachments": {},
   "cell_type": "markdown",
   "metadata": {},
   "source": [
    "### 1. How do you use Big O notation to analyze the time complexity of an algorithm? Why is Big O analysis important?\n",
    "\n",
    "The big-Oh notation is used widely to characterize running times and space bounds in terms of some parameter n, which varies from problem to problem, but is always defined as a chosen measure of the “size” of the problem. Using the big-Oh notation, we can write the  mathematically precise statement on the running time of algorithm for any computer. In other words, it gives an algorithm's upper-bound runtime or worst-case complexity. \n",
    "\n",
    "Big O analysis is important as we aim to maximize efficiency under hardware and technological constraints. Therefor, every program should be assess its efficiency, using time complexity notation, in comparison with other functions/programs that produce the same effect."
   ]
  },
  {
   "attachments": {},
   "cell_type": "markdown",
   "metadata": {},
   "source": [
    "### 2. What a worst-case scenario is in the context of Big O Analysis? Is it necessary tocalculate exact runtimes when analyzing algorithms with Big O notation? Why or why not?\n",
    "The worst-case scenario of function is when the function takes exactly as many operations as the Big O notation's order of n to complete. \n",
    "\n",
    "It is not required to calculate and express the number of operations down to an exact function. We calculate Big O complexity of a function to find out its worst case runtime, since not all programs are designed to achieve the best possible time, given hardware limitations and the usage for larger scales of input."
   ]
  },
  {
   "attachments": {},
   "cell_type": "markdown",
   "metadata": {},
   "source": [
    "### 3. What is your understanding of space complexity? Is it different fromtime complexity? If yes, then how? When would you choose a solution with a betterspace complexity over one with a better time complexity?\n",
    "Space complexity is the amount of memory space that an algorithm or a problem takes during the execution of that particular problem/algo.\n",
    "\n",
    "Time and Space complexity are different aspects of calculating the efficiency of an algorithm. Time complexity deals with finding out how the computational time of an algorithm changes with the change in size of the input. On the other hand, space complexity deals with finding out how much (extra)space would be required by the algorithm with change in the input size.\n",
    "\n",
    "Based on the situation, we should decide to prioritize time and space resources. Space complexity should be prioritized if the target is to minimize real-time memory usage (i.e. databases, general applications, visual rendering, audio processing and video games). When the target is to maximize the user experience, we may prioritize time complexity in order to respond quickly."
   ]
  },
  {
   "attachments": {},
   "cell_type": "markdown",
   "metadata": {},
   "source": [
    "# Problem 2: Time Complexity"
   ]
  },
  {
   "cell_type": "code",
   "execution_count": 1,
   "metadata": {},
   "outputs": [],
   "source": [
    "# 1. Algorithm 1:\n",
    "\n",
    "def deductOne(num):\n",
    "    num  -= 1       # 1 op\n",
    "    return  num     # 1 op"
   ]
  },
  {
   "attachments": {},
   "cell_type": "markdown",
   "metadata": {},
   "source": [
    "$f(n) = 3$\n",
    "\n",
    "Time complexity of Algorithm 1: $O(1)$"
   ]
  },
  {
   "cell_type": "code",
   "execution_count": 2,
   "metadata": {},
   "outputs": [],
   "source": [
    "# 2. Algorithm 2:\n",
    "\n",
    "def s(_list):\n",
    "    prefix_sum = 0          # 1 op\n",
    "    for i in _list:         # n op\n",
    "        prefix_sum += 1         # 2 op\n",
    "    return prefix_sum       # 1 op\n",
    "\n",
    "# Total time: n + 1, Highest order: n"
   ]
  },
  {
   "attachments": {},
   "cell_type": "markdown",
   "metadata": {},
   "source": [
    "$f(n) = 2n+2$\n",
    "\n",
    "Time complexity of Algorithm 2: $O(n)$"
   ]
  },
  {
   "cell_type": "code",
   "execution_count": 3,
   "metadata": {},
   "outputs": [],
   "source": [
    "# 3. Algorithm 3:\n",
    "\n",
    "testList = [1, 3, 4, 5, 61, 96, 13, 22, 2001]   # n = len(testList) = 9\n",
    "\n",
    "def al(testList):\n",
    "    for i in range(len(testList)):              # 9 op\n",
    "        for j in range(i + 1, len(testList)):       # n-1 op, sum = n(n - 1)/2\n",
    "            if testList[j] < testList[i]:       \n",
    "                testList[j], testList[i] = testList[i], testList[j]\n",
    "    return testList                             # 1 op"
   ]
  },
  {
   "attachments": {},
   "cell_type": "markdown",
   "metadata": {},
   "source": [
    "$f(n) = 9n(n-1)/2+1 = 9n^2/2-9n/2+1$\n",
    "\n",
    "Time complexity of Algorithm 3: $O(n^2)$"
   ]
  },
  {
   "cell_type": "code",
   "execution_count": 4,
   "metadata": {},
   "outputs": [],
   "source": [
    "# 4. Algorithm 4:\n",
    "\n",
    "a = 100\n",
    "N = 40\n",
    "\n",
    "def add(a, N):\n",
    "    for i in range(N):  # n op\n",
    "        a = a + 10          # 2 op\n",
    "    return a            # 1 op"
   ]
  },
  {
   "attachments": {},
   "cell_type": "markdown",
   "metadata": {},
   "source": [
    "$f(n) = 2n + 1$\n",
    "\n",
    "Time complexity of Algorithm 4: $O(n)$"
   ]
  },
  {
   "cell_type": "code",
   "execution_count": 5,
   "metadata": {},
   "outputs": [],
   "source": [
    "# 5. Algorithm 5:\n",
    "def  count(A, B):\n",
    "    n = len(A)                      # 2 op\n",
    "    count = 0\n",
    "    for i in range(n):              # n op\n",
    "        total = 0                       # 1 op\n",
    "        for j in range(n):              # n op\n",
    "            for k in range (1+j):           # n op, sum = n(n+1)/2\n",
    "                total += A[k]                   # 3 op\n",
    "        if B[i] ==  total:              # 4 op\n",
    "            count += 1                \n",
    "    return count                    # 1 op"
   ]
  },
  {
   "attachments": {},
   "cell_type": "markdown",
   "metadata": {},
   "source": [
    "$f(n) = 2 + n[1 + 3(1 + 2 + ... + n) + 4] + 1 = 3 + 5n + 3n^2(n+1) / 2 $\n",
    "\n",
    "Time complexity of Algorithm 5: $O(n^3)$"
   ]
  },
  {
   "cell_type": "code",
   "execution_count": 6,
   "metadata": {},
   "outputs": [],
   "source": [
    "# 6. Algorithm 6:\n",
    "def fibo(n):\n",
    "    if n <= 1:      \n",
    "        return n\n",
    "    return fibo(n - 1) + fibo(n - 2)       # 2 function calls"
   ]
  },
  {
   "attachments": {},
   "cell_type": "markdown",
   "metadata": {},
   "source": [
    "Time complexity of Algorithm 6: $O(2^n)$"
   ]
  },
  {
   "attachments": {},
   "cell_type": "markdown",
   "metadata": {},
   "source": [
    "## Problem 3: Binary Search"
   ]
  },
  {
   "cell_type": "code",
   "execution_count": 7,
   "metadata": {},
   "outputs": [],
   "source": [
    "import time\n",
    "\n",
    "def binary_search(alist, a):\n",
    "    start = 0\n",
    "    end = len(alist) - 1\n",
    "    while start <= end:\n",
    "        mid = (start + end) // 2\n",
    "        if alist[mid] == a:\n",
    "            return mid\n",
    "        elif alist[mid] < a:\n",
    "            start = mid + 1\n",
    "        else:\n",
    "            end = mid - 1\n",
    "    return \"Not found\""
   ]
  },
  {
   "cell_type": "code",
   "execution_count": 8,
   "metadata": {},
   "outputs": [
    {
     "name": "stdout",
     "output_type": "stream",
     "text": [
      "Index: Not found\n",
      "Iteration time: 8.296966552734375e-05\n"
     ]
    }
   ],
   "source": [
    "start = time.time()\n",
    "a = 5 \n",
    "alist = [1, 2, 4, 6, 7, 9]\n",
    "\n",
    "print(\"Index:\", binary_search(alist, a))\n",
    "\n",
    "end = time.time()\n",
    "print(f'Iteration time: {end - start}')"
   ]
  },
  {
   "cell_type": "code",
   "execution_count": 9,
   "metadata": {},
   "outputs": [
    {
     "name": "stdout",
     "output_type": "stream",
     "text": [
      "Index: 5\n",
      "Iteration time: 0.0002589225769042969\n"
     ]
    }
   ],
   "source": [
    "start = time.time()\n",
    "a = \"f\"\n",
    "alist = ['a', 'b', 'c', 'd', 'e', 'f', 'g', 'h', 'i', 'j', 'k', 'l', 'm', 'n', 'o', 'p', 'q',\n",
    "         'r', 's', 't', 'u', 'v', 'w', 'x', 'y', 'z']\n",
    "\n",
    "print(\"Index:\", binary_search(alist, a))\n",
    "\n",
    "end = time.time()\n",
    "print(f'Iteration time: {end - start}')"
   ]
  },
  {
   "cell_type": "code",
   "execution_count": 10,
   "metadata": {},
   "outputs": [
    {
     "name": "stdout",
     "output_type": "stream",
     "text": [
      "Index: 5\n",
      "Iteration time: 7.605552673339844e-05\n"
     ]
    }
   ],
   "source": [
    "start = time.time()\n",
    "a = 5\n",
    "alist =[2, 1, 2163,  -125, 1, 5, 7, 9, 6, 5, 3, 11, 22, 55, 88, 99,111, 222, 555, 321, 653, 963,\n",
    "        654, 998, 651]\n",
    "\n",
    "print(\"Index:\", binary_search(sorted(alist), a))\n",
    "\n",
    "end = time.time()\n",
    "print(f'Iteration time: {end - start}')"
   ]
  },
  {
   "cell_type": "code",
   "execution_count": 11,
   "metadata": {},
   "outputs": [
    {
     "name": "stdout",
     "output_type": "stream",
     "text": [
      "Index: 7\n",
      "Iteration time: 0.0005221366882324219\n"
     ]
    }
   ],
   "source": [
    "start = time.time()\n",
    "a = \"foo\"\n",
    "alist = ['aac','bac','cbaasc','duc','enk','fire','foo','hv','isg','loj','qwek','scsl','vfbgm',\n",
    "         'nig','go','prii','qqqq','kkree','lis','acst','qweu','vfsdv','wfefe','xsfed','yagr',\n",
    "         'zyz']\n",
    "\n",
    "print(\"Index:\", binary_search(sorted(alist), a))\n",
    "\n",
    "end = time.time()\n",
    "print(f'Iteration time: {end - start}')"
   ]
  }
 ],
 "metadata": {
  "kernelspec": {
   "display_name": "Python 3",
   "language": "python",
   "name": "python3"
  },
  "language_info": {
   "codemirror_mode": {
    "name": "ipython",
    "version": 3
   },
   "file_extension": ".py",
   "mimetype": "text/x-python",
   "name": "python",
   "nbconvert_exporter": "python",
   "pygments_lexer": "ipython3",
   "version": "3.10.8"
  },
  "orig_nbformat": 4,
  "vscode": {
   "interpreter": {
    "hash": "aee8b7b246df8f9039afb4144a1f6fd8d2ca17a180786b69acc140d282b71a49"
   }
  }
 },
 "nbformat": 4,
 "nbformat_minor": 2
}
