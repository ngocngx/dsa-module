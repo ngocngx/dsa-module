{
 "cells": [
  {
   "attachments": {},
   "cell_type": "markdown",
   "metadata": {},
   "source": [
    "Nguyễn Vũ Ánh Ngọc - DSEB63 - 11214369"
   ]
  },
  {
   "attachments": {},
   "cell_type": "markdown",
   "metadata": {},
   "source": [
    "# Problem 1: Constructing A Dynamic Array"
   ]
  },
  {
   "cell_type": "code",
   "execution_count": 1,
   "metadata": {},
   "outputs": [],
   "source": [
    "class LeaderBoard:\n",
    "    \"\"\" Fixed length sequence of high scores in descending order \"\"\"\n",
    "\n",
    "\n",
    "    def __init__(self, capacity):\n",
    "        \"\"\"Initialize leader board with given maximum capacity \n",
    "        All entries are initially None\n",
    "        Capacity must be a positive integer \"\"\"\n",
    "\n",
    "        self._capacity = capacity\n",
    "        self._board = [None]*capacity\n",
    "        self._backup = []\n",
    "\n",
    "\n",
    "    def __len__(self):\n",
    "        \"\"\" Return the number of non None elements in the board \"\"\"\n",
    "        c = 0\n",
    "        for item in self._board:\n",
    "            if item is not None:\n",
    "                c += 1\n",
    "        return c\n",
    "\n",
    "\n",
    "    def sort(self):\n",
    "        l = len(self)\n",
    "        self._board[:l] = sorted(self._board[:l], key=lambda entry: entry[1], reverse=True)\n",
    "\n",
    "    def get_player(self, player):\n",
    "        \"\"\"Find a player in leader board using his name \n",
    "        Print not found if that player isn't in the board \"\"\"\n",
    "        rank = 0\n",
    "        for (name, score) in self._board[:len(self)]:\n",
    "            rank += 1\n",
    "            if player == name:\n",
    "                return rank, name, score\n",
    "        return \"Not found\"\n",
    "\n",
    "\n",
    "    def __str__(self):\n",
    "        \"\"\" Return string representation of the LeaderBoard \"\"\"\n",
    "        rep = \"Current Leader Board:\\n\"\n",
    "        rank = 1\n",
    "\n",
    "        for (name, score) in self._board[:len(self)]:\n",
    "            rep += f\"   {rank}. {name}: {score}\\n\"\n",
    "            rank += 1\n",
    "        return rep\n",
    "\n",
    "\n",
    "    def __delitem__(self, k):\n",
    "        \"\"\" Delete score of rank k\n",
    "        k must be a positive interger and smaller than LEN of current leader board \"\"\"\n",
    "        if 0 < k < len(self):\n",
    "            self._board.pop(k-1)\n",
    "        else:\n",
    "            return \"k must be a positive interger and smaller than LEN of current leader board\"\n",
    "\n",
    "\n",
    "    def add(self, new_entry):\n",
    "        \"\"\"Consider adding new entry to high scores\n",
    "        new_entry: a tuple including score and player information\"\"\"\n",
    "        l = len(self)\n",
    "\n",
    "        if l < self._capacity:\n",
    "            self._board[l] = new_entry\n",
    "            self.sort()\n",
    "        else:\n",
    "            temp = self._board\n",
    "            for i in range(len(temp)):\n",
    "                if new_entry[1] > temp[i][1]:\n",
    "\n",
    "                    temp.insert(i, new_entry)\n",
    "                    self._board = temp[:self._capacity]\n",
    "\n",
    "                    self._backup.append(temp[-1])\n",
    "                    self._backup = sorted(self._backup, key=lambda entry: entry[1], reverse=True)\n",
    "                    \n",
    "                    return\n",
    "                    \n",
    "            self._backup.append(new_entry)\n",
    "            self._backup = sorted(self._backup, key=lambda entry: entry[1], reverse=True)\n",
    "\n",
    "            print(\"Cannot compete.\")\n",
    "    \n",
    "    def remove_cheat(self, cheater_name):\n",
    "        try:\n",
    "            rank, name, score = self.get_player(cheater_name)\n",
    "        except:\n",
    "            print('Player not in leaderboard.')\n",
    "            return\n",
    "        self._board.remove((name, score))\n",
    "        self._board.append(self._backup[0])\n",
    "        return\n"
   ]
  },
  {
   "cell_type": "code",
   "execution_count": 2,
   "metadata": {},
   "outputs": [
    {
     "name": "stdout",
     "output_type": "stream",
     "text": [
      "a) Create a leader board for top 7 players in DSA Game.\n",
      "Current Leader Board:\n",
      "   1. Snaky: 30\n",
      "   2. Doggo: 28\n",
      "   3. Catto: 25\n",
      "   4. Racoon: 23\n",
      "   5. Larma: 21\n",
      "   6. Panda: 20\n",
      "   7. Bunny: 19\n",
      "\n",
      "b) Add Owl with score 26 to the leader board.\n",
      "Current Leader Board:\n",
      "   1. Snaky: 30\n",
      "   2. Doggo: 28\n",
      "   3. Owl: 26\n",
      "   4. Catto: 25\n",
      "   5. Racoon: 23\n",
      "   6. Larma: 21\n",
      "   7. Panda: 20\n",
      "\n",
      "c) Add Piggy with score 20 to the leader board.\n",
      "Cannot compete.\n",
      "Current Leader Board:\n",
      "   1. Snaky: 30\n",
      "   2. Doggo: 28\n",
      "   3. Owl: 26\n",
      "   4. Catto: 25\n",
      "   5. Racoon: 23\n",
      "   6. Larma: 21\n",
      "   7. Panda: 20\n",
      "\n",
      "d) Racoon was found cheated. Find and remove him from the leader board. Then Piggy is given the slot.\n",
      "Current Leader Board:\n",
      "   1. Snaky: 30\n",
      "   2. Doggo: 28\n",
      "   3. Owl: 26\n",
      "   4. Catto: 25\n",
      "   5. Larma: 21\n",
      "   6. Panda: 20\n",
      "   7. Piggy: 20\n",
      "\n"
     ]
    }
   ],
   "source": [
    "entries = [('Catto', 25), ('Doggo', 28), ('Bunny', 19), ('Panda', 20), ('Snaky', 30), ('Racoon', 23), ('Larma', 21)]\n",
    "\n",
    "# a) Create a leader board for top 7 players in DSA Game.\n",
    "print('a) Create a leader board for top 7 players in DSA Game.')\n",
    "top7 = LeaderBoard(7)\n",
    "for entry in entries:\n",
    "    top7.add(entry)\n",
    "print(top7)\n",
    "\n",
    "# b) Add Owl with score 26 to the leader board.\n",
    "print('b) Add Owl with score 26 to the leader board.')\n",
    "top7.add(('Owl', 26))\n",
    "print(top7)\n",
    "\n",
    "# c) Add Piggy with score 20 to the leader board.\n",
    "print('c) Add Piggy with score 20 to the leader board.')\n",
    "top7.add(('Piggy', 20))\n",
    "print(top7)\n",
    "\n",
    "# d) Racoon was found cheated. Find and remove him from the leader board. Then Piggy is given the slot.\n",
    "print('d) Racoon was found cheated. Find and remove him from the leader board. Then Piggy is given the slot.')\n",
    "top7.remove_cheat('Racoon')\n",
    "print(top7)"
   ]
  },
  {
   "attachments": {},
   "cell_type": "markdown",
   "metadata": {},
   "source": [
    "# Problem 2: Insertion Sort Algorithm"
   ]
  },
  {
   "cell_type": "code",
   "execution_count": 12,
   "metadata": {},
   "outputs": [
    {
     "name": "stdout",
     "output_type": "stream",
     "text": [
      "[-1, 0, 2, 4, 5, 6, 8, 9, 10]\n",
      "['a', 'b', 'c', 'e', 'f', 'g', 'u', 'w', 'x']\n"
     ]
    }
   ],
   "source": [
    "def insertion_sort(A):\n",
    "    for i in range(len(A)):\n",
    "        if A[i-1] > A[i]:\n",
    "            A[i-1], A[i] = A[i], A[i-1]\n",
    "        for j in range(i-1, 0, -1):\n",
    "            if A[j-1] > A[j]:\n",
    "                A[j-1], A[j] = A[j], A[j-1]\n",
    "\n",
    "task = [[6, 9, 10, 2, 0, -1, 4, 5, 8], \n",
    "        ['f', 'a', 'c', 'g', 'u', 'b', 'w', 'x', 'e']]\n",
    "        \n",
    "for i in task:\n",
    "    insertion_sort(i)\n",
    "    print(i)"
   ]
  },
  {
   "attachments": {},
   "cell_type": "markdown",
   "metadata": {},
   "source": [
    "# Problem 3: Dynamic Programming"
   ]
  },
  {
   "cell_type": "code",
   "execution_count": 4,
   "metadata": {},
   "outputs": [
    {
     "name": "stdout",
     "output_type": "stream",
     "text": [
      "50: 7778742049\n",
      "70: 117669030460994\n",
      "100: 218922995834555169026\n"
     ]
    }
   ],
   "source": [
    "def fibo(n):\n",
    "    res = [0, 1]\n",
    "    for i in range(2, n):\n",
    "        res.append(res[i-1] + res[i-2])\n",
    "    return res[i]\n",
    "\n",
    "\n",
    "task = [50, 70, 100]\n",
    "\n",
    "for num in task:\n",
    "    print(f'{num}: {fibo(num)}')\n"
   ]
  },
  {
   "attachments": {},
   "cell_type": "markdown",
   "metadata": {},
   "source": [
    "# Problem 4: Best Time To Buy And Sell Stock"
   ]
  },
  {
   "cell_type": "code",
   "execution_count": 5,
   "metadata": {},
   "outputs": [],
   "source": [
    "def find_max(array):\n",
    "    pivot = 0\n",
    "    for i in range(len(array)):\n",
    "        if array[i] > array[pivot]:\n",
    "            pivot = i\n",
    "    return array[pivot]\n",
    "\n",
    "\n",
    "def best_profit(price):\n",
    "    res = []\n",
    "    for i in range(len(price)):\n",
    "        for j in range(i+1, len(price)):\n",
    "            res.append(price[j] - price[i])\n",
    "\n",
    "    profit = find_max(res)\n",
    "    if profit > 0:\n",
    "        return profit\n",
    "    else:\n",
    "        return 0\n"
   ]
  },
  {
   "cell_type": "code",
   "execution_count": 6,
   "metadata": {},
   "outputs": [
    {
     "data": {
      "text/plain": [
       "5"
      ]
     },
     "execution_count": 6,
     "metadata": {},
     "output_type": "execute_result"
    }
   ],
   "source": [
    "price = [7, 1, 5, 3, 6, 4]\n",
    "best_profit(price)"
   ]
  },
  {
   "cell_type": "code",
   "execution_count": 7,
   "metadata": {},
   "outputs": [
    {
     "data": {
      "text/plain": [
       "0"
      ]
     },
     "execution_count": 7,
     "metadata": {},
     "output_type": "execute_result"
    }
   ],
   "source": [
    "price = [7, 6, 4, 3, 1]\n",
    "best_profit(price)"
   ]
  },
  {
   "attachments": {},
   "cell_type": "markdown",
   "metadata": {},
   "source": [
    "# Problem 5: Caesar Cipher"
   ]
  },
  {
   "cell_type": "code",
   "execution_count": 8,
   "metadata": {},
   "outputs": [],
   "source": [
    "class CaesarCipher:\n",
    "    def __init__(self, text):\n",
    "        self._text = text\n",
    "    \n",
    "    def encode(self, n):\n",
    "        res = ''\n",
    "\n",
    "        for char in self._text:\n",
    "            if char.isupper():\n",
    "                res += chr(((ord(char) + n - 65) % 26) + 65)\n",
    "            elif char.islower():\n",
    "                res += chr(((ord(char) + n - 97) % 26) + 97)\n",
    "            else:\n",
    "                res += char\n",
    "\n",
    "        return res\n",
    "    \n",
    "    def decode(self, n):\n",
    "        res = ''\n",
    "\n",
    "        for char in self._text:\n",
    "            if char.isupper():\n",
    "                res += chr(((ord(char) - n - 65) % 26) + 65)\n",
    "            elif char.islower():\n",
    "                res += chr(((ord(char) - n - 97) % 26) + 97)\n",
    "            else:\n",
    "                res += char\n",
    "\n",
    "        return res"
   ]
  },
  {
   "cell_type": "code",
   "execution_count": 9,
   "metadata": {},
   "outputs": [
    {
     "name": "stdout",
     "output_type": "stream",
     "text": [
      "Hello Data Science : Lipps Hexe Wgmirgi\n",
      "Lecture 4 Array : Pigxyvi 4 Evvec\n",
      "Jhlzhy Jpwoly h zptwsl tlaovk : Caesar Cipher a simple method\n",
      "Jvunyhabshapvu, fvb mpuhssf mpupzolk aopz ovtldvyr  : Congratulation, you finally finished this homework \n"
     ]
    }
   ],
   "source": [
    "task_encode = ['Hello Data Science', 'Lecture 4 Array']\n",
    "\n",
    "for string in task_encode:\n",
    "    cipher = CaesarCipher(string)\n",
    "    print(string, ':', cipher.encode(4))\n",
    "\n",
    "task_decode = ['Jhlzhy Jpwoly h zptwsl tlaovk', 'Jvunyhabshapvu, fvb mpuhssf mpupzolk aopz ovtldvyr ']\n",
    "\n",
    "for cipher in task_decode:\n",
    "    true_string = CaesarCipher(cipher)\n",
    "    print(cipher, ':', true_string.decode(7))"
   ]
  }
 ],
 "metadata": {
  "kernelspec": {
   "display_name": "Python 3",
   "language": "python",
   "name": "python3"
  },
  "language_info": {
   "codemirror_mode": {
    "name": "ipython",
    "version": 3
   },
   "file_extension": ".py",
   "mimetype": "text/x-python",
   "name": "python",
   "nbconvert_exporter": "python",
   "pygments_lexer": "ipython3",
   "version": "3.10.8"
  },
  "orig_nbformat": 4,
  "vscode": {
   "interpreter": {
    "hash": "aee8b7b246df8f9039afb4144a1f6fd8d2ca17a180786b69acc140d282b71a49"
   }
  }
 },
 "nbformat": 4,
 "nbformat_minor": 2
}
