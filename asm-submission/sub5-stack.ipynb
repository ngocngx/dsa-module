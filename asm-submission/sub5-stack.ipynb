{
 "cells": [
  {
   "attachments": {},
   "cell_type": "markdown",
   "metadata": {},
   "source": [
    "Nguyễn Vũ Ánh Ngọc - DSEB63 - 11214369"
   ]
  },
  {
   "attachments": {},
   "cell_type": "markdown",
   "metadata": {},
   "source": [
    "# Problem 1: Constructing A Stack"
   ]
  },
  {
   "cell_type": "code",
   "execution_count": 1,
   "metadata": {},
   "outputs": [],
   "source": [
    "class Stack:\n",
    "    \"\"\"LIFO Stack implementation using a Python list as underlying storage.\"\"\"\n",
    "\n",
    "    def __init__(self):\n",
    "        self.stack = []\n",
    "    \n",
    "    def __len__(self):\n",
    "        return len(self.stack)\n",
    "\n",
    "    def __str__(self):\n",
    "        return str(self.stack)\n",
    "\n",
    "    def push(self, value):\n",
    "        self.stack.append(value)\n",
    "    \n",
    "    def pop(self):\n",
    "        if self.is_empty():\n",
    "            raise Empty('Stack is empty')\n",
    "        return self.stack.pop()\n",
    "\n",
    "    def top(self):\n",
    "        if self.is_empty():\n",
    "            raise Empty('Stack is empty')\n",
    "        return self.stack[-1]\n",
    "\n",
    "    def is_empty(self):\n",
    "        return len(self) == 0\n",
    "    \n",
    "    def reverse(self):\n",
    "        temp = Stack()\n",
    "\n",
    "        while self:\n",
    "            temp.push(self.pop())\n",
    "\n",
    "        return temp\n",
    "    \n",
    "    def move(self, other):\n",
    "        temp = self.reverse()\n",
    "        other = temp.reverse()\n",
    "\n",
    "        return other\n",
    "    \n",
    "    def sort(self):\n",
    "        temp = Stack()\n",
    "        \n",
    "        while self:\n",
    "            pivot = self.pop()\n",
    "\n",
    "            while temp and temp.top() < pivot:\n",
    "                self.push(temp.pop())\n",
    "            temp.push(pivot)\n",
    "\n",
    "        while temp:\n",
    "            self.push(temp.pop())\n",
    "\n",
    "        return self\n",
    "    \n",
    "    def help_classmate(self):\n",
    "        self = self.reverse()\n",
    "        result = Stack()\n",
    "        temp = Stack()\n",
    "        \n",
    "        while self:\n",
    "            current = self.pop()\n",
    "            \n",
    "            while self:\n",
    "                if current > self.top():\n",
    "                    result.push(self.top())\n",
    "                    temp.push(self.pop())\n",
    "                    break\n",
    "                else:\n",
    "                    temp.push(self.pop())\n",
    "                    if self.is_empty():\n",
    "                        result.push(-1)\n",
    "\n",
    "            while temp:\n",
    "                self.push(temp.pop())\n",
    "\n",
    "        result.push(-1)\n",
    "        return result"
   ]
  },
  {
   "cell_type": "code",
   "execution_count": 2,
   "metadata": {},
   "outputs": [
    {
     "name": "stdout",
     "output_type": "stream",
     "text": [
      "A: [4, 0, 1, 5, 9, 8, 2]\n",
      "B: [4, 0, 1, 5, 9, 8, 2]\n",
      "B sorted: [0, 1, 2, 4, 5, 8, 9]\n"
     ]
    }
   ],
   "source": [
    "A = Stack()\n",
    "for num in (4, 0, 1, 5, 9, 8, 2):\n",
    "    A.push(num)\n",
    "\n",
    "print('A:', A)\n",
    "B = Stack()\n",
    "B = A.move(B)\n",
    "print('B:', B)\n",
    "print('B sorted:', B.sort())"
   ]
  },
  {
   "attachments": {},
   "cell_type": "markdown",
   "metadata": {},
   "source": [
    "# Problem 2: Converting Numeral System"
   ]
  },
  {
   "cell_type": "code",
   "execution_count": 3,
   "metadata": {},
   "outputs": [
    {
     "name": "stdout",
     "output_type": "stream",
     "text": [
      "1111111\n"
     ]
    }
   ],
   "source": [
    "def decimal_to_binary(decimal_num):\n",
    "    if decimal_num == 0:\n",
    "        return 0\n",
    "    \n",
    "    temp = Stack()\n",
    "    \n",
    "    while decimal_num > 0:\n",
    "        temp.push(decimal_num % 2)\n",
    "        decimal_num //= 2\n",
    "    \n",
    "    binary_num = ''\n",
    "    while temp:\n",
    "        binary_num += str(temp.pop())\n",
    "        \n",
    "    return int(binary_num)\n",
    "\n",
    "print(decimal_to_binary(127))"
   ]
  },
  {
   "cell_type": "code",
   "execution_count": 4,
   "metadata": {},
   "outputs": [
    {
     "data": {
      "text/plain": [
       "12"
      ]
     },
     "execution_count": 4,
     "metadata": {},
     "output_type": "execute_result"
    }
   ],
   "source": [
    "def ternary_to_decimal(ternary_num):\n",
    "    ternary_num = str(ternary_num)\n",
    "\n",
    "    temp = Stack()\n",
    "    for digit in ternary_num:\n",
    "        temp.push(int(digit))\n",
    "    \n",
    "    decimal_num = 0\n",
    "    power = 0\n",
    "\n",
    "    while temp:\n",
    "        decimal_num += temp.pop()*(3**power)\n",
    "        power += 1\n",
    "    \n",
    "    return decimal_num\n",
    "\n",
    "ternary_to_decimal(110)\n"
   ]
  },
  {
   "cell_type": "code",
   "execution_count": 5,
   "metadata": {},
   "outputs": [
    {
     "data": {
      "text/plain": [
       "1100"
      ]
     },
     "execution_count": 5,
     "metadata": {},
     "output_type": "execute_result"
    }
   ],
   "source": [
    "def ternary_to_binary(ternary_num):\n",
    "    decimal_num = ternary_to_decimal(ternary_num)\n",
    "    binary_num = decimal_to_binary(decimal_num)\n",
    "    return binary_num\n",
    "\n",
    "ternary_to_binary(110)"
   ]
  },
  {
   "attachments": {},
   "cell_type": "markdown",
   "metadata": {},
   "source": [
    "# Problem 3: Help Classmates"
   ]
  },
  {
   "attachments": {},
   "cell_type": "markdown",
   "metadata": {},
   "source": [
    "Assume \"Marks\" must be a stack."
   ]
  },
  {
   "cell_type": "code",
   "execution_count": 6,
   "metadata": {},
   "outputs": [
    {
     "name": "stdout",
     "output_type": "stream",
     "text": [
      "[3, 8, 5, 2, 9]\n",
      "[2, 5, 2, -1, -1]\n"
     ]
    }
   ],
   "source": [
    "marks = Stack()\n",
    "for item in [3, 8, 5, 2, 9]:\n",
    "    marks.push(item)\n",
    "    \n",
    "print(marks)\n",
    "print(marks.help_classmate())"
   ]
  },
  {
   "cell_type": "code",
   "execution_count": 7,
   "metadata": {},
   "outputs": [
    {
     "name": "stdout",
     "output_type": "stream",
     "text": [
      "[1, 2, 3, 4]\n",
      "[-1, -1, -1, -1]\n"
     ]
    }
   ],
   "source": [
    "marks = Stack()\n",
    "for item in [1, 2, 3, 4]:\n",
    "    marks.push(item)\n",
    "    \n",
    "print(marks)\n",
    "print(marks.help_classmate())"
   ]
  },
  {
   "attachments": {},
   "cell_type": "markdown",
   "metadata": {},
   "source": [
    "\"Marks\" is not necessarily a stack."
   ]
  },
  {
   "cell_type": "code",
   "execution_count": 12,
   "metadata": {},
   "outputs": [
    {
     "name": "stdout",
     "output_type": "stream",
     "text": [
      "[2, 5, 2, -1, -1]\n"
     ]
    }
   ],
   "source": [
    "def help_classmate(marks):\n",
    "    result = []\n",
    "    l = len(marks)\n",
    "    flag = False\n",
    "\n",
    "    for i in range(l):\n",
    "        for j in range(i+1, l):\n",
    "            if marks[i] > marks [j]:\n",
    "                result.append(marks[j])\n",
    "                flag = True\n",
    "                break\n",
    "\n",
    "        if flag:\n",
    "            flag = False\n",
    "        else:\n",
    "            result.append(-1)\n",
    "    \n",
    "    return result\n",
    "\n",
    "marks = [3, 8, 5, 2, 9]\n",
    "print(help_classmate(marks))"
   ]
  },
  {
   "cell_type": "code",
   "execution_count": 9,
   "metadata": {},
   "outputs": [
    {
     "name": "stdout",
     "output_type": "stream",
     "text": [
      "[2, 5, 2, -1, -1]\n"
     ]
    }
   ],
   "source": [
    "marks = [3, 8, 5, 2, 9]\n",
    "print(help_classmate(marks))"
   ]
  },
  {
   "cell_type": "code",
   "execution_count": 10,
   "metadata": {},
   "outputs": [
    {
     "name": "stdout",
     "output_type": "stream",
     "text": [
      "[-1, -1, -1, -1]\n"
     ]
    }
   ],
   "source": [
    "marks = [1, 2, 3, 4]\n",
    "print(help_classmate(marks))"
   ]
  }
 ],
 "metadata": {
  "kernelspec": {
   "display_name": "Python 3",
   "language": "python",
   "name": "python3"
  },
  "language_info": {
   "codemirror_mode": {
    "name": "ipython",
    "version": 3
   },
   "file_extension": ".py",
   "mimetype": "text/x-python",
   "name": "python",
   "nbconvert_exporter": "python",
   "pygments_lexer": "ipython3",
   "version": "3.10.8"
  },
  "orig_nbformat": 4,
  "vscode": {
   "interpreter": {
    "hash": "aee8b7b246df8f9039afb4144a1f6fd8d2ca17a180786b69acc140d282b71a49"
   }
  }
 },
 "nbformat": 4,
 "nbformat_minor": 2
}
