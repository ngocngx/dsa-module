{
 "cells": [
  {
   "attachments": {},
   "cell_type": "markdown",
   "metadata": {},
   "source": [
    "Nguyễn Vũ Ánh Ngọc - DSEB63 - 11214369"
   ]
  },
  {
   "cell_type": "code",
   "execution_count": 1,
   "metadata": {},
   "outputs": [],
   "source": [
    "from tabulate import tabulate\n",
    "\n",
    "\n",
    "class Empty(Exception):\n",
    "    pass\n",
    "\n",
    "\n",
    "class Full(Exception):\n",
    "    pass"
   ]
  },
  {
   "attachments": {},
   "cell_type": "markdown",
   "metadata": {},
   "source": [
    "\n",
    "# Problem 1: Queue Implementation With Limited Capacity"
   ]
  },
  {
   "cell_type": "code",
   "execution_count": 2,
   "metadata": {},
   "outputs": [
    {
     "name": "stdout",
     "output_type": "stream",
     "text": [
      "Operation     Return Value    Queue\n",
      "------------  --------------  -------\n",
      "Q.enqueue(1)  None            [1]\n",
      "Q.enqueue(2)  None            [1, 2]\n",
      "Q.first()     1               [1, 2]\n",
      "Q.dequeue()   1               [2]\n",
      "Q.is_empty()  False           [2]\n",
      "Q.enqueue(1)  None            [2, 1]\n",
      "len(Q)        2               [2, 1]\n"
     ]
    }
   ],
   "source": [
    "class Queue:\n",
    "    \"\"\"FIFO Queue implementation using a Python list as underlying storage.\"\"\"\n",
    "\n",
    "    def __init__(self):\n",
    "        \"\"\" Create an empty queue \"\"\"\n",
    "        self._data = []\n",
    "        self._size = 0\n",
    "\n",
    "    def __repr__(self):\n",
    "        \"\"\" Return string representation of the queue \"\"\"\n",
    "        return str(self._data)\n",
    "\n",
    "    def __len__(self):\n",
    "        \"\"\" Return the number of elements in the queue \"\"\"\n",
    "        return self._size\n",
    "\n",
    "    def is_empty(self):\n",
    "        \"\"\" Return True if the queue is empty \"\"\"\n",
    "        return self._size == 0\n",
    "\n",
    "    def enqueue(self, value):\n",
    "        \"\"\" Add an element to the back of queue \"\"\"\n",
    "        self._data.append(value)\n",
    "        self._size += 1\n",
    "\n",
    "    def dequeue(self):\n",
    "        \"\"\" Remove and return the first element of the queue. \n",
    "        Raise Empty exception if the queue is empty. \"\"\"\n",
    "        if self.is_empty():\n",
    "            raise Empty('Queue is empty')\n",
    "        self._size -= 1\n",
    "        return self._data.pop(0)\n",
    "\n",
    "    def first(self):\n",
    "        \"\"\" Return (but do not remove) the element at the front of the queue.\n",
    "        Raise Empty exception if the queue is empty. \"\"\"\n",
    "        if self.is_empty():\n",
    "            raise Empty('Queue is empty')\n",
    "        return self._data[0]\n",
    "\n",
    "\n",
    "Q = Queue()\n",
    "table = [['Operation', 'Return Value', 'Queue'],\n",
    "         ['Q.enqueue(1)',   str(Q.enqueue(1)),  str(Q)],\n",
    "         ['Q.enqueue(2)',   str(Q.enqueue(2)),  str(Q)],\n",
    "         ['Q.first()',      str(Q.first()),     str(Q)],\n",
    "         ['Q.dequeue()',    str(Q.dequeue()),   str(Q)],\n",
    "         ['Q.is_empty()',   str(Q.is_empty()),  str(Q)],\n",
    "         ['Q.enqueue(1)',   str(Q.enqueue(1)),  str(Q)],\n",
    "         ['len(Q)',         str(len(Q)),        str(Q)],]\n",
    "\n",
    "print(tabulate(table, headers='firstrow', tablefmt='simple'))"
   ]
  },
  {
   "cell_type": "code",
   "execution_count": 3,
   "metadata": {},
   "outputs": [],
   "source": [
    "class QueueMaxLen:\n",
    "    \"\"\"FIFO Queue implementation with limited capacity using a Python list as underlying storage.\"\"\"\n",
    "    def __init__(self, maxlen=None):\n",
    "        self._data = []\n",
    "        self._size = 0\n",
    "        self._maxlen = maxlen\n",
    "\n",
    "    def __str__(self):\n",
    "        return str(self._data)\n",
    "\n",
    "    def __len__(self):\n",
    "        return self._size\n",
    "\n",
    "    def is_empty(self):\n",
    "        return self._size == 0\n",
    "\n",
    "    def enqueue(self, value):\n",
    "        if len(self) == self._maxlen:\n",
    "            raise Full('Queue is full')\n",
    "        self._data.append(value)\n",
    "        self._size += 1\n",
    "\n",
    "    def dequeue(self):\n",
    "        if self.is_empty():\n",
    "            raise Empty('Queue is empty')\n",
    "        self._size -= 1\n",
    "        return self._data.pop(0)\n",
    "\n",
    "    def first(self):\n",
    "        if self.is_empty():\n",
    "            raise Empty('Queue is empty')\n",
    "        return self._data[0]"
   ]
  },
  {
   "cell_type": "code",
   "execution_count": 4,
   "metadata": {},
   "outputs": [
    {
     "name": "stdout",
     "output_type": "stream",
     "text": [
      "Operation     Return Value    Queue\n",
      "------------  --------------  -------\n",
      "Q.enqueue(1)  None            [1]\n",
      "Q.enqueue(2)  None            [1, 2]\n",
      "Q.first()     1               [1, 2]\n",
      "Q.dequeue()   1               [2]\n",
      "Q.is_empty()  False           [2]\n",
      "Q.enqueue(1)  None            [2, 1]\n",
      "len(Q)        2               [2, 1]\n"
     ]
    }
   ],
   "source": [
    "Q = QueueMaxLen(2)\n",
    "table = [['Operation', 'Return Value', 'Queue'],\n",
    "         ['Q.enqueue(1)',   str(Q.enqueue(1)),  str(Q)],\n",
    "         ['Q.enqueue(2)',   str(Q.enqueue(2)),  str(Q)],\n",
    "         ['Q.first()',      str(Q.first()),     str(Q)],\n",
    "         ['Q.dequeue()',    str(Q.dequeue()),   str(Q)],\n",
    "         ['Q.is_empty()',   str(Q.is_empty()),  str(Q)],\n",
    "         ['Q.enqueue(1)',   str(Q.enqueue(1)),  str(Q)],\n",
    "         ['len(Q)',         str(len(Q)),        str(Q)],]\n",
    "\n",
    "print(tabulate(table, headers='firstrow', tablefmt='simple'))\n",
    "\n",
    "# print(Q.enqueue(3))"
   ]
  },
  {
   "attachments": {},
   "cell_type": "markdown",
   "metadata": {},
   "source": [
    "# Problem 2: QueueByStack and StackByQueue"
   ]
  },
  {
   "attachments": {},
   "cell_type": "markdown",
   "metadata": {},
   "source": [
    "Queue by Stack"
   ]
  },
  {
   "cell_type": "code",
   "execution_count": 5,
   "metadata": {},
   "outputs": [],
   "source": [
    "class Empty(Exception):\n",
    "    pass\n",
    "\n",
    "class Stack:\n",
    "    \"\"\"LIFO Stack implementation using a Python list as underlying storage.\"\"\"\n",
    "\n",
    "    def __init__(self):\n",
    "        self.stack = []\n",
    "    \n",
    "    def __len__(self):\n",
    "        return len(self.stack)\n",
    "\n",
    "    def __str__(self):\n",
    "        return str(self.stack)\n",
    "\n",
    "    def push(self, value):\n",
    "        self.stack.append(value)\n",
    "    \n",
    "    def is_empty(self):\n",
    "        return len(self) == 0\n",
    "    \n",
    "    def pop(self):\n",
    "        if self.is_empty():\n",
    "            raise Empty('Stack is empty')\n",
    "        return self.stack.pop()\n",
    "\n",
    "    def top(self):\n",
    "        if self.is_empty():\n",
    "            raise Empty('Stack is empty')\n",
    "        return self.stack[-1]\n"
   ]
  },
  {
   "cell_type": "code",
   "execution_count": 6,
   "metadata": {},
   "outputs": [],
   "source": [
    "class QueueByStack:\n",
    "    def __init__(self):\n",
    "        self._data = Stack()\n",
    "\n",
    "    def __len__(self):\n",
    "        return len(self._data)\n",
    "\n",
    "    def __str__(self):\n",
    "        return str(self._data)\n",
    "\n",
    "    def is_empty(self):\n",
    "        return len(self) == 0\n",
    "\n",
    "    def first(self):\n",
    "        temp = Stack()\n",
    "        while self:\n",
    "            temp.push(self._data.pop())\n",
    "\n",
    "        answer = temp.top()\n",
    "        while temp:\n",
    "            self._data.push(temp.pop())\n",
    "        return answer\n",
    "\n",
    "    def enqueue(self, e):\n",
    "        self._data.push(e)\n",
    "    \n",
    "    def dequeue(self):\n",
    "        temp = Stack()\n",
    "        while self:\n",
    "            temp.push(self._data.pop())\n",
    "\n",
    "        answer = temp.pop()\n",
    "        while temp:\n",
    "            self._data.push(temp.pop())\n",
    "        \n",
    "        return answer"
   ]
  },
  {
   "cell_type": "code",
   "execution_count": 7,
   "metadata": {},
   "outputs": [
    {
     "name": "stdout",
     "output_type": "stream",
     "text": [
      "Operation     Return Value    Queue\n",
      "------------  --------------  -------\n",
      "Q.enqueue(1)  None            [1]\n",
      "Q.enqueue(2)  None            [1, 2]\n",
      "len(Q)        2               [1, 2]\n",
      "Q.first()     1               [1, 2]\n",
      "Q.dequeue()   1               [2]\n",
      "Q.is_empty()  False           [2]\n",
      "Q.dequeue()   2               []\n",
      "Q.is_empty()  True            []\n"
     ]
    }
   ],
   "source": [
    "Q = QueueByStack()\n",
    "table = [['Operation', 'Return Value', 'Queue'],\n",
    "         ['Q.enqueue(1)',   str(Q.enqueue(1)),  str(Q)],\n",
    "         ['Q.enqueue(2)',   str(Q.enqueue(2)),  str(Q)],\n",
    "         ['len(Q)',         str(len(Q)),        str(Q)],\n",
    "         ['Q.first()',      str(Q.first()),     str(Q)],\n",
    "         ['Q.dequeue()',    str(Q.dequeue()),   str(Q)],\n",
    "         ['Q.is_empty()',   str(Q.is_empty()),  str(Q)],\n",
    "         ['Q.dequeue()',    str(Q.dequeue()),   str(Q)],\n",
    "         ['Q.is_empty()',   str(Q.is_empty()),  str(Q)]]\n",
    "\n",
    "print(tabulate(table, headers='firstrow', tablefmt='simple'))"
   ]
  },
  {
   "attachments": {},
   "cell_type": "markdown",
   "metadata": {},
   "source": [
    "Stack by Queue"
   ]
  },
  {
   "cell_type": "code",
   "execution_count": 8,
   "metadata": {},
   "outputs": [],
   "source": [
    "class StackByQueue():\n",
    "    def __init__(self):\n",
    "        self._data = Queue()\n",
    "    \n",
    "    def __len__(self):\n",
    "        return len(self._data)\n",
    "    \n",
    "    def __str__(self):\n",
    "        return str(self._data)\n",
    "    \n",
    "    def is_empty(self):\n",
    "        return len(self) == 0\n",
    "    \n",
    "    def push(self, e):\n",
    "        self._data.enqueue(e)\n",
    "    \n",
    "    def pop(self):\n",
    "        temp = Queue()\n",
    "\n",
    "        while len(self) > 1:\n",
    "            temp.enqueue(self._data.dequeue())\n",
    "        answer = self._data.dequeue()\n",
    "\n",
    "        while temp:\n",
    "            self._data.enqueue(temp.dequeue())\n",
    "        return answer\n",
    "    \n",
    "    def top(self):\n",
    "        temp = Queue()\n",
    "\n",
    "        while len(self) > 1:\n",
    "            temp.enqueue(self._data.dequeue())\n",
    "\n",
    "        answer = self._data.dequeue()\n",
    "        temp.enqueue(answer)\n",
    "\n",
    "        while temp:\n",
    "            self._data.enqueue(temp.dequeue())\n",
    "        \n",
    "        return answer"
   ]
  },
  {
   "cell_type": "code",
   "execution_count": 9,
   "metadata": {},
   "outputs": [
    {
     "name": "stdout",
     "output_type": "stream",
     "text": [
      "Operation     Return Value    Stack\n",
      "------------  --------------  -------\n",
      "S.push(1)     None            [1]\n",
      "S.push(2)     None            [1, 2]\n",
      "len(S)        2               [1, 2]\n",
      "S.top()       2               [1, 2]\n",
      "S.pop()       2               [1]\n",
      "S.is_empty()  False           [1]\n",
      "S.pop()       1               []\n",
      "S.is_empty()  True            []\n"
     ]
    }
   ],
   "source": [
    "S = StackByQueue()\n",
    "table = [['Operation', 'Return Value', 'Stack'],\n",
    "         ['S.push(1)',      str(S.push(1)),     str(S)],\n",
    "         ['S.push(2)',      str(S.push(2)),     str(S)],\n",
    "         ['len(S)',         str(len(S)),        str(S)],\n",
    "         ['S.top()',        str(S.top()),       str(S)],\n",
    "         ['S.pop()',        str(S.pop()),       str(S)],\n",
    "         ['S.is_empty()',   str(S.is_empty()),  str(S)],\n",
    "         ['S.pop()',        str(S.pop()),       str(S)],\n",
    "         ['S.is_empty()',   str(S.is_empty()),  str(S)]]\n",
    "\n",
    "print(tabulate(table, headers='firstrow', tablefmt='simple'))"
   ]
  },
  {
   "attachments": {},
   "cell_type": "markdown",
   "metadata": {},
   "source": [
    "# Problem 3: Buy Tickets for Blackpink Concert"
   ]
  },
  {
   "cell_type": "code",
   "execution_count": 10,
   "metadata": {},
   "outputs": [],
   "source": [
    "def get_time(line: Queue(), k: int):\n",
    "    time = 0\n",
    "\n",
    "    while line:\n",
    "        current = line.dequeue() - 1\n",
    "        time += 1\n",
    "\n",
    "        if current:\n",
    "            line.enqueue(current)\n",
    "        else:\n",
    "            if k == 0:\n",
    "                break  \n",
    "            \n",
    "        k = (k - 1) % len(line)\n",
    "       \n",
    "    return time"
   ]
  },
  {
   "cell_type": "code",
   "execution_count": 11,
   "metadata": {},
   "outputs": [
    {
     "name": "stdout",
     "output_type": "stream",
     "text": [
      "Line for tickets: [1, 1, 1, 1, 1]\n",
      "Time for the person no. 1 to buy tickets: 1 second(s).\n"
     ]
    }
   ],
   "source": [
    "tickets = Queue()\n",
    "k = 0\n",
    "\n",
    "for i in [1,1,1,1,1]:\n",
    "    tickets.enqueue(i)\n",
    "\n",
    "print('Line for tickets:', tickets)\n",
    "print(f'Time for the person no. {k+1} to buy tickets: {get_time(tickets, k)} second(s).')"
   ]
  },
  {
   "cell_type": "code",
   "execution_count": 12,
   "metadata": {},
   "outputs": [
    {
     "name": "stdout",
     "output_type": "stream",
     "text": [
      "Line for tickets: [5, 1, 1, 1]\n",
      "Time for the person no. 1 to buy tickets: 8 second(s).\n"
     ]
    }
   ],
   "source": [
    "tickets = Queue()\n",
    "k = 0\n",
    "for i in [5, 1, 1, 1]:\n",
    "    tickets.enqueue(i)\n",
    "\n",
    "print('Line for tickets:', tickets)\n",
    "print(f'Time for the person no. {k+1} to buy tickets: {get_time(tickets, k)} second(s).')"
   ]
  },
  {
   "cell_type": "code",
   "execution_count": 13,
   "metadata": {},
   "outputs": [
    {
     "name": "stdout",
     "output_type": "stream",
     "text": [
      "Line for tickets: [2, 3, 2, 4]\n",
      "Time for the person no. 3 to buy tickets: 7 second(s).\n"
     ]
    }
   ],
   "source": [
    "tickets = Queue()\n",
    "k = 2\n",
    "for i in [2, 3, 2, 4]:\n",
    "    tickets.enqueue(i)\n",
    "\n",
    "print('Line for tickets:', tickets)\n",
    "print(f'Time for the person no. {k+1} to buy tickets: {get_time(tickets, k)} second(s).')"
   ]
  }
 ],
 "metadata": {
  "kernelspec": {
   "display_name": "Python 3",
   "language": "python",
   "name": "python3"
  },
  "language_info": {
   "codemirror_mode": {
    "name": "ipython",
    "version": 3
   },
   "file_extension": ".py",
   "mimetype": "text/x-python",
   "name": "python",
   "nbconvert_exporter": "python",
   "pygments_lexer": "ipython3",
   "version": "3.10.8"
  },
  "orig_nbformat": 4,
  "vscode": {
   "interpreter": {
    "hash": "aee8b7b246df8f9039afb4144a1f6fd8d2ca17a180786b69acc140d282b71a49"
   }
  }
 },
 "nbformat": 4,
 "nbformat_minor": 2
}
