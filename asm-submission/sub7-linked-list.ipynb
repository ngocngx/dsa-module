{
 "cells": [
  {
   "attachments": {},
   "cell_type": "markdown",
   "metadata": {},
   "source": [
    "Nguyễn Vũ Ánh Ngọc - DSEB63 - 11214369"
   ]
  },
  {
   "cell_type": "code",
   "execution_count": 3,
   "metadata": {},
   "outputs": [],
   "source": [
    "class Empty(Exception):\n",
    "    pass\n",
    "\n",
    "from tabulate import tabulate"
   ]
  },
  {
   "attachments": {},
   "cell_type": "markdown",
   "metadata": {},
   "source": [
    "# Problem 1: Singly Linked List"
   ]
  },
  {
   "attachments": {},
   "cell_type": "markdown",
   "metadata": {},
   "source": [
    "## a. Implement a Node class and a SinglyLinkedList class storing multiple nodes."
   ]
  },
  {
   "attachments": {},
   "cell_type": "markdown",
   "metadata": {},
   "source": [
    "### Code"
   ]
  },
  {
   "cell_type": "code",
   "execution_count": 4,
   "metadata": {},
   "outputs": [],
   "source": [
    "class Node:\n",
    "    def __init__(self, val, next=None):\n",
    "        self.val = val\n",
    "        self.next = next\n",
    "        \n",
    "    def __repr__(self):\n",
    "        next_val = self.next.val if self.next else None\n",
    "        return f'[{self.val}, Next Value: {next_val}]'\n",
    "\n",
    "\n",
    "class SinglyLinkedList:\n",
    "    \"\"\"Singly Linked List implementation.\"\"\"\n",
    "\n",
    "    def __init__(self):\n",
    "        \"\"\"Initialize a singly linked list object.\n",
    "        Attributes: head, size.\"\"\"\n",
    "        self.head = None\n",
    "        self.size = 0\n",
    "\n",
    "    def __len__(self):\n",
    "        \"\"\" Return the current number of nodes in the list.\"\"\"\n",
    "        return self.size\n",
    "\n",
    "    def is_empty(self):\n",
    "        \"\"\" Return True if the list is empty.\"\"\"\n",
    "        return self.size == 0\n",
    "\n",
    "    def __getitem__(self, k):\n",
    "        \"\"\" Return content in the k-th node of the list.\"\"\"\n",
    "        if self.is_empty():\n",
    "            raise Empty('List is empty.')\n",
    "\n",
    "        if k < -self.size or k >= self.size:\n",
    "            raise IndexError(\"Index out of range\")\n",
    "        \n",
    "        if k < 0:\n",
    "            k = k + self.size\n",
    "        \n",
    "        current = self.head\n",
    "        for i in range(k):\n",
    "            current = current.next\n",
    "        return current\n",
    "    \n",
    "    def insert(self, val, k):\n",
    "        \"\"\"Insert a new node to position k of the list.\n",
    "        If k = 0 or list is empty, insert a new head.\"\"\"\n",
    "        if k < 0 or k > self.size:\n",
    "            raise IndexError(\"Index out of range\")\n",
    "            \n",
    "        if k == 0 or self.is_empty():\n",
    "            self.head = Node(val, self.head)\n",
    "        else:\n",
    "            current = self.head\n",
    "            i = 0\n",
    "            while i < k - 1 and current.next:\n",
    "                current = current.next\n",
    "                i += 1\n",
    "            current.next = Node(val, current.next)\n",
    "\n",
    "        self.size += 1\n",
    "    \n",
    "    def __delitem__(self, k):\n",
    "        \"\"\" Delete node at position k of the list. Return the deleted node.\"\"\"\n",
    "        if self.is_empty():\n",
    "            raise Empty('List is empty.')\n",
    "        \n",
    "        if k < 0 or k >= self.size:\n",
    "            raise IndexError(\"Index out of range\")\n",
    "        \n",
    "        if k == 0:\n",
    "            ans = self.head\n",
    "            self.head = self.head.next\n",
    "        else:\n",
    "            current = self.head\n",
    "            for i in range(k-1):\n",
    "                current = current.next\n",
    "            ans = current.next\n",
    "            current.next = current.next.next\n",
    "        \n",
    "        self.size -= 1\n",
    "        return ans\n",
    "\n",
    "    def delete_by_value(self, val):\n",
    "        \"\"\"Delete all nodes that store the input value. Return all deleted nodes.\"\"\"\n",
    "\n",
    "        if self.is_empty():\n",
    "            raise Empty('List is empty.')\n",
    "        \n",
    "        deleted_nodes = []\n",
    "        current = self.head\n",
    "        previous = None\n",
    "\n",
    "        while current:\n",
    "            if current.val == val:\n",
    "                if previous:\n",
    "                    previous.next = current.next\n",
    "                else:\n",
    "                    self.head = current.next\n",
    "                deleted_nodes.append(current)\n",
    "                self.size -= 1\n",
    "            else:\n",
    "                previous = current\n",
    "            current = current.next\n",
    "            \n",
    "        \n",
    "        if deleted_nodes:\n",
    "            return deleted_nodes\n",
    "        return 'Value not found.'\n",
    "\n",
    "    def search(self, val):\n",
    "        \"\"\"Return the positions and contents of all nodes that store the input value. \n",
    "        Print a message if the value is not found\"\"\" \n",
    "\n",
    "        if self.is_empty():\n",
    "            raise Empty('List is empty.')\n",
    "        \n",
    "        found_nodes = []\n",
    "        i = 0\n",
    "\n",
    "        current = self.head\n",
    "        while current:\n",
    "            if isinstance(current.val, (tuple, list, set)):\n",
    "                if val in current.val:\n",
    "                    found_nodes.append((i, current.val))\n",
    "\n",
    "            if current.val == val:\n",
    "                found_nodes.append((i, current))\n",
    "            current = current.next\n",
    "            i += 1\n",
    "        \n",
    "        if found_nodes:\n",
    "            return found_nodes\n",
    "        return 'Value not found.'\n",
    "\n",
    "    def update(self, k, val):\n",
    "        \"\"\"Update content in the k-th node to new input value. \n",
    "        Print out the old and new updated values of the node\"\"\" \n",
    "        if self.is_empty():\n",
    "            raise Empty('List is empty.')\n",
    "\n",
    "        if k < 0 or k >= self.size:\n",
    "            raise IndexError(\"Index out of range\")\n",
    "                \n",
    "        current = self.head\n",
    "        for i in range(k):\n",
    "            current = current.next\n",
    "\n",
    "        print('Old value:', current.val)\n",
    "        current.val = val\n",
    "        print('New value:', current.val)\n",
    "    \n",
    "    \n",
    "    def __repr__(self):\n",
    "        \"\"\" Return string representation of the list.\"\"\" \n",
    "        node = self.head\n",
    "\n",
    "        nodes = []\n",
    "        while node:\n",
    "            nodes.append(node.val)\n",
    "            node = node.next\n",
    "            \n",
    "        return str(nodes)"
   ]
  },
  {
   "attachments": {},
   "cell_type": "markdown",
   "metadata": {},
   "source": [
    "### Output"
   ]
  },
  {
   "cell_type": "code",
   "execution_count": 5,
   "metadata": {},
   "outputs": [
    {
     "name": "stdout",
     "output_type": "stream",
     "text": [
      "Operation              Return Value        LinkedList\n",
      "---------------------  ------------------  ------------------\n",
      "str(LL)                [0, 1, 2, 3, 4]     [0, 1, 2, 3, 4]\n",
      "LL.insert(1, 5)        None                [0, 1, 2, 3, 4, 1]\n",
      "del LL[0]              [0, Next Value: 1]  [1, 2, 3, 4, 1]\n",
      "LL.delete_by_value(9)  Value not found.    [1, 2, 3, 4, 1]\n",
      "LL.is_empty()          False               [1, 2, 3, 4, 1]\n",
      "LL.insert(1, 0)        None                [1, 1, 2, 3, 4, 1]\n",
      "len(LL)                6                   [1, 1, 2, 3, 4, 1]\n"
     ]
    }
   ],
   "source": [
    "LL = SinglyLinkedList()\n",
    "for i in range(5):\n",
    "    LL.insert(i, i)\n",
    "\n",
    "table = [['Operation', 'Return Value', 'LinkedList'],\n",
    "         ['str(LL)',                str(LL),                    str(LL)],\n",
    "         ['LL.insert(1, 5)',        str(LL.insert(1, 5)),       str(LL)],\n",
    "         ['del LL[0]',              str(LL.__delitem__(0)),     str(LL)],\n",
    "         ['LL.delete_by_value(9)',  str(LL.delete_by_value(9)), str(LL)],\n",
    "         ['LL.is_empty()',          str(LL.is_empty()),         str(LL)],\n",
    "         ['LL.insert(1, 0)',        str(LL.insert(1, 0)),       str(LL)],\n",
    "         ['len(LL)',                str(len(LL)),               str(LL)],]\n",
    "\n",
    "print(tabulate(table, headers='firstrow', tablefmt='simple'))"
   ]
  },
  {
   "cell_type": "code",
   "execution_count": 6,
   "metadata": {},
   "outputs": [
    {
     "name": "stdout",
     "output_type": "stream",
     "text": [
      "Old value: 1\n",
      "New value: 1000\n",
      "[1000, 1, 2, 3, 4, 1]\n"
     ]
    }
   ],
   "source": [
    "LL.update(0, 1000)\n",
    "print(LL)"
   ]
  },
  {
   "attachments": {},
   "cell_type": "markdown",
   "metadata": {},
   "source": [
    "## b. Check your implementation by performing these tasks."
   ]
  },
  {
   "attachments": {},
   "cell_type": "markdown",
   "metadata": {},
   "source": [
    "Create a Node object with attributes: name, score, class and next. Then create a SinglyLinkedList object to insert these students with their information into the list:"
   ]
  },
  {
   "cell_type": "code",
   "execution_count": 7,
   "metadata": {},
   "outputs": [],
   "source": [
    "class Node:\n",
    "    def __init__(self, val, next=None):\n",
    "        # self.name, self.score, self.class_ = val\n",
    "        self.val = val\n",
    "        self.next = next\n",
    "    \n",
    "    def __repr__(self):\n",
    "        student = (self.name, self.score, self.class_)\n",
    "        return str(student)\n"
   ]
  },
  {
   "cell_type": "code",
   "execution_count": 8,
   "metadata": {},
   "outputs": [
    {
     "name": "stdout",
     "output_type": "stream",
     "text": [
      "[('Hai', 13.5, 'BFI'), ('Nam', 12, 'Actuary'), ('Vanh', 15, 'DSEB'), ('Ly', 10, 'TKT'), ('Chiu', 13, 'DSEB'), ('Bach', 16, 'DSEB'), ('Chau', 11, 'BFI'), ('Huy', 11, 'Actuary')]\n"
     ]
    }
   ],
   "source": [
    "SLL = SinglyLinkedList()\n",
    "\n",
    "students = [('Hai', 13.5, 'BFI'), ('Nam', 12, 'Actuary'), \n",
    "            ('Vanh', 15, 'DSEB'), ('Ly', 10, 'TKT'), ('Chiu', 13, 'DSEB'), \n",
    "            ('Bach', 16, 'DSEB'), ('Chau', 11, 'BFI'),('Huy', 11, 'Actuary')]\n",
    "\n",
    "i = 0\n",
    "for student in students:\n",
    "    SLL.insert(student, i)\n",
    "    i += 1\n",
    "\n",
    "print(SLL)"
   ]
  },
  {
   "attachments": {},
   "cell_type": "markdown",
   "metadata": {},
   "source": [
    "Insert Hoang who is in TKT class and has score 16 to position 3."
   ]
  },
  {
   "cell_type": "code",
   "execution_count": 9,
   "metadata": {},
   "outputs": [
    {
     "name": "stdout",
     "output_type": "stream",
     "text": [
      "[('Hai', 13.5, 'BFI'), ('Nam', 12, 'Actuary'), ('Vanh', 15, 'DSEB'), ('Hoang', 16, 'TKT'), ('Ly', 10, 'TKT'), ('Chiu', 13, 'DSEB'), ('Bach', 16, 'DSEB'), ('Chau', 11, 'BFI'), ('Huy', 11, 'Actuary')]\n"
     ]
    }
   ],
   "source": [
    "SLL.insert(('Hoang', 16, 'TKT'), 3)\n",
    "print(SLL)"
   ]
  },
  {
   "attachments": {},
   "cell_type": "markdown",
   "metadata": {},
   "source": [
    "Delete all students whose class is BFI."
   ]
  },
  {
   "cell_type": "code",
   "execution_count": 10,
   "metadata": {},
   "outputs": [
    {
     "name": "stdout",
     "output_type": "stream",
     "text": [
      "[('Nam', 12, 'Actuary'), ('Vanh', 15, 'DSEB'), ('Hoang', 16, 'TKT'), ('Ly', 10, 'TKT'), ('Chiu', 13, 'DSEB'), ('Bach', 16, 'DSEB'), ('Huy', 11, 'Actuary')]\n"
     ]
    }
   ],
   "source": [
    "students_to_delete = SLL.search('BFI')\n",
    "\n",
    "for index, student in students_to_delete:\n",
    "    SLL.delete_by_value(student)\n",
    "\n",
    "print(SLL)"
   ]
  },
  {
   "attachments": {},
   "cell_type": "markdown",
   "metadata": {},
   "source": [
    "Search for a student whose name is Vanh."
   ]
  },
  {
   "cell_type": "code",
   "execution_count": 11,
   "metadata": {},
   "outputs": [
    {
     "data": {
      "text/plain": [
       "[(1, ('Vanh', 15, 'DSEB'))]"
      ]
     },
     "execution_count": 11,
     "metadata": {},
     "output_type": "execute_result"
    }
   ],
   "source": [
    "SLL.search('Vanh')"
   ]
  },
  {
   "attachments": {},
   "cell_type": "markdown",
   "metadata": {},
   "source": [
    "No surprised, Bach gave right answer for a hard question so Mr. Tuan decide to add 1 point to his current score. Update his score.\n"
   ]
  },
  {
   "cell_type": "code",
   "execution_count": 12,
   "metadata": {},
   "outputs": [
    {
     "name": "stdout",
     "output_type": "stream",
     "text": [
      "Old value: ('Bach', 16, 'DSEB')\n",
      "New value: ('Bach', 17, 'DSEB')\n"
     ]
    }
   ],
   "source": [
    "result = SLL.search('Bach')\n",
    "index, (name, score, class_) = result[0]\n",
    "score += 1\n",
    "SLL.update(index, (name, score, class_))"
   ]
  },
  {
   "attachments": {},
   "cell_type": "markdown",
   "metadata": {},
   "source": [
    "# Problem 2: Doubly Linked List"
   ]
  },
  {
   "attachments": {},
   "cell_type": "markdown",
   "metadata": {},
   "source": [
    "### a. Implement a DoublyLinkedList class storing multiple nodes. Each node maintains a reference to its element and reference to its last and next nodes in the list."
   ]
  },
  {
   "cell_type": "code",
   "execution_count": 13,
   "metadata": {},
   "outputs": [],
   "source": [
    "class Node:\n",
    "    def __init__(self, val, prev=None, next=None):\n",
    "        self.val = val\n",
    "        self.prev = prev\n",
    "        self.next = next\n",
    "    \n",
    "    def __repr__(self):\n",
    "        prev_val = self.prev.val if self.prev else None\n",
    "        next_val = self.next.val if self.next else None\n",
    "        return f'[{prev_val}, {self.val}, {next_val}]'\n",
    "        \n",
    "\n",
    "class DoublyLinkedList:\n",
    "    \"\"\"Doubly Linked List implementation.\"\"\"\n",
    "\n",
    "    def __init__(self):\n",
    "        \"\"\"Initialize a doubly linked list object. Attributes: head, size\"\"\"\n",
    "        self.head = None\n",
    "        self.tail = None\n",
    "        self.size = 0\n",
    "    \n",
    "    def __len__(self):\n",
    "        \"\"\" Return the current number of nodes in the list \"\"\"\n",
    "        return self.size\n",
    "    \n",
    "    def is_empty(self):\n",
    "        \"\"\" Return True if the list is empty \"\"\"\n",
    "        return self.size == 0\n",
    "    \n",
    "    def __getitem__(self, k):\n",
    "        \"\"\" Return content in the k-th node of the list.\"\"\"\n",
    "        if self.is_empty():\n",
    "            raise Empty('List is empty.')\n",
    "\n",
    "        if k not in range(-self.size, self.size):\n",
    "            raise IndexError(\"Index out of range\")\n",
    "        \n",
    "        if k < 0:\n",
    "            k = k + self.size\n",
    "        \n",
    "        current = self.head\n",
    "        for i in range(k):\n",
    "            current = current.next\n",
    "        return current\n",
    "    \n",
    "    def insert(self, val, k):\n",
    "        \"\"\"Insert a new node to position k of the list.\n",
    "        If k = 0 or list is empty, insert a new head.\"\"\"\n",
    "        if k < 0 or k > self.size:\n",
    "            raise IndexError(\"Index out of range\")\n",
    "\n",
    "        new_node = Node(val)\n",
    "        if self.is_empty():\n",
    "            self.head = self.tail = Node(val)\n",
    "\n",
    "        elif k == 0:\n",
    "            new_node.next = self.head\n",
    "            self.head.prev = new_node\n",
    "            self.head = new_node\n",
    "\n",
    "        elif k == self.size:\n",
    "            new_node.prev = self.tail\n",
    "            self.tail.next = new_node\n",
    "            self.tail = new_node\n",
    "\n",
    "        else:\n",
    "            current = self.head\n",
    "            for i in range(k-1):\n",
    "                current = current.next\n",
    "\n",
    "            new_node.prev = current\n",
    "            new_node.next = current.next\n",
    "            current.next.prev = new_node\n",
    "            current.next = new_node\n",
    "            \n",
    "        self.size += 1\n",
    "    \n",
    "    def __delitem__(self, k):\n",
    "        \"\"\" Delete node at position k of the list. Return the deleted node.\"\"\"\n",
    "        if self.is_empty():\n",
    "            raise Empty('List is empty.')\n",
    "        \n",
    "        if k < 0 or k >= self.size:\n",
    "            raise IndexError(\"Index out of range\")\n",
    "        \n",
    "        if k == 0:\n",
    "            ans = self.head\n",
    "            self.head = self.head.next\n",
    "            self.head.prev = None\n",
    "\n",
    "        else:\n",
    "            current = self.head\n",
    "            previous = None\n",
    "\n",
    "            for i in range(k):\n",
    "                previous = current\n",
    "                current = current.next\n",
    "            \n",
    "            ans = current\n",
    "            previous.next = current.next\n",
    "            \n",
    "            if current.next:\n",
    "                current.next.prev = previous\n",
    "            else:\n",
    "                self.tail = previous\n",
    "\n",
    "        self.size -= 1\n",
    "        return ans\n",
    "    \n",
    "    def reverse(self):\n",
    "        \"\"\"Reverse the list.\"\"\"\n",
    "        if self.is_empty():\n",
    "            raise Empty('List is empty.')\n",
    "\n",
    "        current = self.head\n",
    "        while current:\n",
    "            current.next, current.prev = current.prev, current.next\n",
    "            current = current.prev\n",
    "\n",
    "        self.head, self.tail = self.tail, self.head\n",
    "\n",
    "    def sort_by_value(self, k=None):\n",
    "        \"\"\"Sort the list by values of nodes in descending order.\n",
    "        k: index of criteria\"\"\"\n",
    "        current = self.head\n",
    "        while current:\n",
    "            if k:\n",
    "                while current.next and current.val[k] < current.next.val[k]:\n",
    "                    current.val, current.next.val = current.next.val, current.val\n",
    "                    if current.prev: \n",
    "                        current = current.prev\n",
    "            else:\n",
    "                while current.next and current.val < current.next.val:\n",
    "                    current.val, current.next.val = current.next.val, current.val\n",
    "                    if current.prev: \n",
    "                        current = current.prev\n",
    "            current = current.next\n",
    "            \n",
    "    def __repr__(self):\n",
    "        \"\"\" Return string representation of the list.\"\"\" \n",
    "        node = self.head\n",
    "\n",
    "        nodes = []\n",
    "        while node:\n",
    "            nodes.append(node.val)\n",
    "            node = node.next\n",
    "            \n",
    "        return str(nodes)"
   ]
  },
  {
   "cell_type": "code",
   "execution_count": 14,
   "metadata": {},
   "outputs": [
    {
     "name": "stdout",
     "output_type": "stream",
     "text": [
      "Operation           Return Value     LinkedList\n",
      "------------------  ---------------  ------------------\n",
      "str(LL)             [0, 1, 2, 3, 4]  [0, 1, 2, 3, 4]\n",
      "LL.insert(1, 5)     None             [0, 1, 2, 3, 4, 1]\n",
      "del LL[0]           [None, 0, 1]     [1, 2, 3, 4, 1]\n",
      "LL.is_empty()       False            [1, 2, 3, 4, 1]\n",
      "LL.insert(1, 0)     None             [1, 1, 2, 3, 4, 1]\n",
      "LL.sort_by_value()  None             [4, 3, 2, 1, 1, 1]\n",
      "len(LL)             6                [4, 3, 2, 1, 1, 1]\n"
     ]
    }
   ],
   "source": [
    "LL = DoublyLinkedList()\n",
    "for i in range(5):\n",
    "    LL.insert(i, i)\n",
    "\n",
    "table = [['Operation', 'Return Value', 'LinkedList'],\n",
    "         ['str(LL)',                str(LL),                    str(LL)],\n",
    "         ['LL.insert(1, 5)',        str(LL.insert(1, 5)),       str(LL)],\n",
    "         ['del LL[0]',              str(LL.__delitem__(0)),     str(LL)],\n",
    "         ['LL.is_empty()',          str(LL.is_empty()),         str(LL)],\n",
    "         ['LL.insert(1, 0)',        str(LL.insert(1, 0)),       str(LL)],\n",
    "         ['LL.sort_by_value()',     str(LL.sort_by_value()),       str(LL)],\n",
    "         ['len(LL)',                str(len(LL)),               str(LL)],]\n",
    "\n",
    "print(tabulate(table, headers='firstrow', tablefmt='simple'))"
   ]
  },
  {
   "attachments": {},
   "cell_type": "markdown",
   "metadata": {},
   "source": [
    "## b. Check your implementation by performing these tasks:"
   ]
  },
  {
   "attachments": {},
   "cell_type": "markdown",
   "metadata": {},
   "source": [
    "### Code"
   ]
  },
  {
   "cell_type": "code",
   "execution_count": 15,
   "metadata": {},
   "outputs": [],
   "source": [
    "class Node:\n",
    "    def __init__(self, val, prev=None, next=None):\n",
    "        self.name, self.price = val\n",
    "        self.val = val\n",
    "        self.prev = prev\n",
    "        self.next = next\n",
    "\n",
    "    def __repr__(self):\n",
    "        return f'[{self.name}, {self.price}]'"
   ]
  },
  {
   "attachments": {},
   "cell_type": "markdown",
   "metadata": {},
   "source": [
    "### Output"
   ]
  },
  {
   "attachments": {},
   "cell_type": "markdown",
   "metadata": {},
   "source": [
    "Create a DoublyLinkedList object and insert these stock codes into the list:"
   ]
  },
  {
   "cell_type": "code",
   "execution_count": 16,
   "metadata": {},
   "outputs": [
    {
     "data": {
      "text/plain": [
       "[('DHG', 98.6), ('PNJ', 83.2), ('MWG', 128.2), ('VCB', 94.3), ('VIC', 104.7), ('FPT', 75.7), ('MSN', 86.8), ('GAS', 94), ('HPG', 46.05), ('VNM', 100.6)]"
      ]
     },
     "execution_count": 16,
     "metadata": {},
     "output_type": "execute_result"
    }
   ],
   "source": [
    "DLL = DoublyLinkedList()\n",
    "\n",
    "codes = [ ('VNM', 100.6), ('HPG', 46.05), ('GAS', 94), ('MSN', 86.8), ('FPT', 75.7), \n",
    "         ('VIC', 104.7), ('VCB', 94.3),('MWG', 128.2), ('PNJ', 83.2), ('DHG', 98.6)]\n",
    "\n",
    "i = 0\n",
    "for code in codes:\n",
    "    DLL.insert(code, i)\n",
    "DLL"
   ]
  },
  {
   "attachments": {},
   "cell_type": "markdown",
   "metadata": {},
   "source": [
    " Delete all nodes whose stock prices are smaller than 80.\n"
   ]
  },
  {
   "cell_type": "code",
   "execution_count": 17,
   "metadata": {},
   "outputs": [],
   "source": [
    "def delete_if_price_lower_than(DLL: DoublyLinkedList, num):\n",
    "    current = DLL.head\n",
    "    i = 0\n",
    "    while current:\n",
    "        if current.price < num:\n",
    "            del DLL[i]\n",
    "            DLL.size -= 1\n",
    "            i -= 1\n",
    "        current = current.next\n",
    "        i += 1"
   ]
  },
  {
   "cell_type": "code",
   "execution_count": 18,
   "metadata": {},
   "outputs": [
    {
     "data": {
      "text/plain": [
       "[('DHG', 98.6), ('PNJ', 83.2), ('MWG', 128.2), ('VCB', 94.3), ('VIC', 104.7), ('MSN', 86.8), ('GAS', 94), ('VNM', 100.6)]"
      ]
     },
     "execution_count": 18,
     "metadata": {},
     "output_type": "execute_result"
    }
   ],
   "source": [
    "delete_if_price_lower_than(DLL, 80)\n",
    "DLL"
   ]
  },
  {
   "attachments": {},
   "cell_type": "markdown",
   "metadata": {},
   "source": [
    "Insert VJC with price 101.2 into position 3 of the list."
   ]
  },
  {
   "cell_type": "code",
   "execution_count": 19,
   "metadata": {},
   "outputs": [
    {
     "data": {
      "text/plain": [
       "[('DHG', 98.6), ('PNJ', 83.2), ('MWG', 128.2), ('VJC', 101.2), ('VCB', 94.3), ('VIC', 104.7), ('MSN', 86.8), ('GAS', 94), ('VNM', 100.6)]"
      ]
     },
     "execution_count": 19,
     "metadata": {},
     "output_type": "execute_result"
    }
   ],
   "source": [
    "DLL.insert(('VJC', 101.2), 3)\n",
    "DLL"
   ]
  },
  {
   "cell_type": "code",
   "execution_count": 20,
   "metadata": {},
   "outputs": [
    {
     "data": {
      "text/plain": [
       "[('VNM', 100.6), ('GAS', 94), ('MSN', 86.8), ('VIC', 104.7), ('VCB', 94.3), ('VJC', 101.2), ('MWG', 128.2), ('PNJ', 83.2), ('DHG', 98.6)]"
      ]
     },
     "execution_count": 20,
     "metadata": {},
     "output_type": "execute_result"
    }
   ],
   "source": [
    "DLL.reverse()\n",
    "DLL"
   ]
  },
  {
   "cell_type": "code",
   "execution_count": 21,
   "metadata": {},
   "outputs": [
    {
     "data": {
      "text/plain": [
       "[('MWG', 128.2), ('VIC', 104.7), ('VJC', 101.2), ('VNM', 100.6), ('DHG', 98.6), ('VCB', 94.3), ('GAS', 94), ('MSN', 86.8), ('PNJ', 83.2)]"
      ]
     },
     "execution_count": 21,
     "metadata": {},
     "output_type": "execute_result"
    }
   ],
   "source": [
    "DLL.sort_by_value(1)\n",
    "DLL"
   ]
  },
  {
   "attachments": {},
   "cell_type": "markdown",
   "metadata": {},
   "source": [
    "# Problem 3: Minimum and Maximum Element of A Linked Stack"
   ]
  },
  {
   "cell_type": "code",
   "execution_count": 22,
   "metadata": {},
   "outputs": [],
   "source": [
    "class Node:\n",
    "    def __init__(self, val, next=None):\n",
    "        self.val = val\n",
    "        self.next = next\n",
    "\n",
    "class LinkedStack:        \n",
    "    def __init__(self):\n",
    "        self.head = None\n",
    "        self.size = 0\n",
    "        self.min_stack = []\n",
    "        self.max_stack = []\n",
    "    \n",
    "    def __len__(self):\n",
    "        return self.size\n",
    "    \n",
    "    def is_empty(self):\n",
    "        return self.size == 0\n",
    "    \n",
    "    def push(self, val):\n",
    "        self.head = Node(val, self.head)\n",
    "        self.size += 1\n",
    "\n",
    "        if len(self.min_stack) == 0 or val <= self.min_stack[-1]:\n",
    "            self.min_stack.append(val)\n",
    "        if len(self.max_stack) == 0 or val >= self.max_stack[-1]:\n",
    "            self.max_stack.append(val)\n",
    "    \n",
    "    def top(self):\n",
    "        if self.is_empty():\n",
    "            raise Empty('Stack is empty')\n",
    "        return self.head.val\n",
    "    \n",
    "    def pop(self):\n",
    "        if self.is_empty():\n",
    "            raise Empty('Stack is empty')\n",
    "        \n",
    "        ans = self.head.val\n",
    "        self.head = self.head.next\n",
    "        self.size -= 1\n",
    "\n",
    "        if ans == self.min_stack[-1]:\n",
    "            self.min_stack.pop()\n",
    "        if ans == self.max_stack[-1]:\n",
    "            self.max_stack.pop()\n",
    "\n",
    "        return ans\n",
    "    \n",
    "    def get_min(self):\n",
    "        return self.min_stack[-1]\n",
    "    \n",
    "    def get_max(self):\n",
    "        return self.max_stack[-1]\n",
    "\n",
    "    def __repr__(self):\n",
    "        \"\"\" Return string representation of the list.\"\"\" \n",
    "        node = self.head\n",
    "\n",
    "        nodes = []\n",
    "        while node:\n",
    "            nodes.append(node.val)\n",
    "            node = node.next\n",
    "            \n",
    "        return str(nodes)"
   ]
  },
  {
   "cell_type": "code",
   "execution_count": 23,
   "metadata": {},
   "outputs": [
    {
     "name": "stdout",
     "output_type": "stream",
     "text": [
      "Operation      Return Value     LinkedStack\n",
      "-------------  ---------------  ------------------------\n",
      "str(LS)        [4, 3, 2, 1, 0]  [4, 3, 2, 1, 0]\n",
      "LS.push(10)    None             [10, 4, 3, 2, 1, 0]\n",
      "LS.push(5)     None             [5, 10, 4, 3, 2, 1, 0]\n",
      "LS.get_max()   10               [5, 10, 4, 3, 2, 1, 0]\n",
      "LS.get_min()   0                [5, 10, 4, 3, 2, 1, 0]\n",
      "LS.top()       5                [5, 10, 4, 3, 2, 1, 0]\n",
      "LS.pop()       5                [10, 4, 3, 2, 1, 0]\n",
      "LS.is_empty()  False            [10, 4, 3, 2, 1, 0]\n",
      "LS.push(100)   None             [100, 10, 4, 3, 2, 1, 0]\n",
      "LS.get_max()   100              [100, 10, 4, 3, 2, 1, 0]\n",
      "len(LS)        7                [100, 10, 4, 3, 2, 1, 0]\n"
     ]
    }
   ],
   "source": [
    "LS = LinkedStack()\n",
    "for i in range(5):\n",
    "    LS.push(i)\n",
    "\n",
    "table = [['Operation', 'Return Value', 'LinkedStack'],\n",
    "         ['str(LS)',        str(LS),                str(LS)],\n",
    "         ['LS.push(10)',    str(LS.push(10)),       str(LS)],\n",
    "         ['LS.push(5)',     str(LS.push(5)),        str(LS)],\n",
    "         ['LS.get_max()',   str(LS.get_max()),      str(LS)],\n",
    "         ['LS.get_min()',   str(LS.get_min()),      str(LS)],\n",
    "         ['LS.top()',       str(LS.top()),          str(LS)],\n",
    "         ['LS.pop()',       str(LS.pop()),          str(LS)],\n",
    "         ['LS.is_empty()',  str(LS.is_empty()),     str(LS)],\n",
    "         ['LS.push(100)',   str(LS.push(100)),      str(LS)],\n",
    "         ['LS.get_max()',   str(LS.get_max()),      str(LS)],\n",
    "         ['len(LS)',        str(len(LS)),           str(LS)],]\n",
    "\n",
    "print(tabulate(table, headers='firstrow', tablefmt='simple'))"
   ]
  },
  {
   "attachments": {},
   "cell_type": "markdown",
   "metadata": {},
   "source": [
    "# Optional Problem: Palindrome Linked List"
   ]
  },
  {
   "cell_type": "code",
   "execution_count": 24,
   "metadata": {},
   "outputs": [],
   "source": [
    "def is_palindrome(sllist: SinglyLinkedList):\n",
    "\n",
    "    slow = fast = sllist.head\n",
    "    while fast and fast.next:\n",
    "        slow = slow.next\n",
    "        fast = fast.next.next\n",
    "\n",
    "    # Reverse the second half of the linked list\n",
    "    prev, curr = None, slow\n",
    "    while curr:\n",
    "        temp = curr.next\n",
    "        curr.next = prev\n",
    "        prev = curr\n",
    "        curr = temp\n",
    "\n",
    "\n",
    "    first, second = sllist.head, prev\n",
    "    while second:\n",
    "        if first.val != second.val:\n",
    "            return False\n",
    "        first, second = first.next, second.next\n",
    "\n",
    "    return True"
   ]
  },
  {
   "cell_type": "code",
   "execution_count": 25,
   "metadata": {},
   "outputs": [
    {
     "data": {
      "text/plain": [
       "True"
      ]
     },
     "execution_count": 25,
     "metadata": {},
     "output_type": "execute_result"
    }
   ],
   "source": [
    "sllist = SinglyLinkedList()\n",
    "\n",
    "for i in [1, 2, 3, 4, 3, 2, 1]:\n",
    "    sllist.insert(i, len(sllist))\n",
    "\n",
    "is_palindrome(sllist)"
   ]
  },
  {
   "cell_type": "code",
   "execution_count": 26,
   "metadata": {},
   "outputs": [
    {
     "data": {
      "text/plain": [
       "False"
      ]
     },
     "execution_count": 26,
     "metadata": {},
     "output_type": "execute_result"
    }
   ],
   "source": [
    "sllist = SinglyLinkedList()\n",
    "\n",
    "for i in [1, 2, 3, 4, 3, 2]:\n",
    "    sllist.insert(i, len(sllist))\n",
    "\n",
    "is_palindrome(sllist)"
   ]
  },
  {
   "cell_type": "code",
   "execution_count": 27,
   "metadata": {},
   "outputs": [
    {
     "data": {
      "text/plain": [
       "False"
      ]
     },
     "execution_count": 27,
     "metadata": {},
     "output_type": "execute_result"
    }
   ],
   "source": [
    "sllist = SinglyLinkedList()\n",
    "\n",
    "for i in [2, 3, 2, 3]:\n",
    "    sllist.insert(i, len(sllist))\n",
    "\n",
    "is_palindrome(sllist)"
   ]
  },
  {
   "cell_type": "code",
   "execution_count": 28,
   "metadata": {},
   "outputs": [
    {
     "data": {
      "text/plain": [
       "True"
      ]
     },
     "execution_count": 28,
     "metadata": {},
     "output_type": "execute_result"
    }
   ],
   "source": [
    "sllist = SinglyLinkedList()\n",
    "\n",
    "for i in [1, 2, 3, 3, 2, 1]:\n",
    "    sllist.insert(i, len(sllist))\n",
    "\n",
    "is_palindrome(sllist)"
   ]
  }
 ],
 "metadata": {
  "kernelspec": {
   "display_name": "Python 3",
   "language": "python",
   "name": "python3"
  },
  "language_info": {
   "codemirror_mode": {
    "name": "ipython",
    "version": 3
   },
   "file_extension": ".py",
   "mimetype": "text/x-python",
   "name": "python",
   "nbconvert_exporter": "python",
   "pygments_lexer": "ipython3",
   "version": "3.10.8"
  },
  "orig_nbformat": 4,
  "vscode": {
   "interpreter": {
    "hash": "aee8b7b246df8f9039afb4144a1f6fd8d2ca17a180786b69acc140d282b71a49"
   }
  }
 },
 "nbformat": 4,
 "nbformat_minor": 2
}
