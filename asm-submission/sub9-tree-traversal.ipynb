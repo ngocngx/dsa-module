{
 "cells": [
  {
   "attachments": {},
   "cell_type": "markdown",
   "metadata": {},
   "source": [
    "Nguyễn Vũ Ánh Ngọc - DSEB63 - 11214369"
   ]
  },
  {
   "attachments": {},
   "cell_type": "markdown",
   "metadata": {},
   "source": [
    "# Problem 1: Tree Traversal Algorithms Implementation"
   ]
  },
  {
   "attachments": {},
   "cell_type": "markdown",
   "metadata": {},
   "source": [
    "### a. Implement these following tree traversal algorithms in BinaryTree class.\n",
    "- Preorder Traversal\n",
    "- Postorder Traversal\n",
    "- Breadth - First Tree Traversal\n",
    "- Inorder Traversal \n",
    "\n",
    "Note:\n",
    "- The pseudo-code, figure and examples of these algorithms are all in textbook (Part 8.4 - from page 328). Bear in mind that you should follow these instructions to standardize your implementation (since these algorithms are basic ones).\n",
    "- In Breadth - First Tree Traversal, you should use Queue (Array-based) class you have implemented before."
   ]
  },
  {
   "cell_type": "code",
   "execution_count": 1,
   "metadata": {},
   "outputs": [],
   "source": [
    "class Empty(Exception):\n",
    "    pass\n",
    "\n",
    "\n",
    "class Full(Exception):\n",
    "    pass\n",
    "\n",
    "\n",
    "class Queue:\n",
    "    \"\"\"FIFO Queue implementation using a Python list as underlying storage.\"\"\"\n",
    "\n",
    "    def __init__(self):\n",
    "        \"\"\" Create an empty queue \"\"\"\n",
    "        self._data = []\n",
    "        self._size = 0\n",
    "\n",
    "    def __repr__(self):\n",
    "        \"\"\" Return string representation of the queue \"\"\"\n",
    "        return str(self._data)\n",
    "\n",
    "    def __len__(self):\n",
    "        \"\"\" Return the number of elements in the queue \"\"\"\n",
    "        return self._size\n",
    "\n",
    "    def is_empty(self):\n",
    "        \"\"\" Return True if the queue is empty \"\"\"\n",
    "        return self._size == 0\n",
    "\n",
    "    def enqueue(self, value):\n",
    "        \"\"\" Add an element to the back of queue \"\"\"\n",
    "        self._data.append(value)\n",
    "        self._size += 1\n",
    "\n",
    "    def dequeue(self):\n",
    "        \"\"\" Remove and return the first element of the queue.\n",
    "        Raise Empty exception if the queue is empty. \"\"\"\n",
    "        if self.is_empty():\n",
    "            raise Empty('Queue is empty')\n",
    "        self._size -= 1\n",
    "        return self._data.pop(0)\n",
    "\n",
    "    def first(self):\n",
    "        \"\"\" Return (but do not remove) the element at the front of the queue.\n",
    "        Raise Empty exception if the queue is empty. \"\"\"\n",
    "        if self.is_empty():\n",
    "            raise Empty('Queue is empty')\n",
    "        return self._data[0]\n"
   ]
  },
  {
   "cell_type": "code",
   "execution_count": 2,
   "metadata": {},
   "outputs": [],
   "source": [
    "class Node:\n",
    "    def __init__(self, value, parent=None, left=None, right=None):\n",
    "        self.value = value\n",
    "        self.parent = parent\n",
    "        self.left = left\n",
    "        self.right = right\n",
    "\n",
    "    def __repr__(self):\n",
    "        return str(self.value)\n",
    "\n",
    "class BinaryTree:\n",
    "    def __init__(self, root):\n",
    "        self.root = root\n",
    "\n",
    "    def add_left(self, parent: Node, child: Node):\n",
    "        if parent.left:\n",
    "            raise Exception('The node already has a left child.')\n",
    "        child.parent = parent\n",
    "        parent.left = child\n",
    "\n",
    "    def add_right(self, parent: Node, child: Node):\n",
    "        if parent.right:\n",
    "            raise Exception('The node already has a right child.')\n",
    "        child.parent = parent\n",
    "        parent.right = child\n",
    "\n",
    "    def is_root(self, node):\n",
    "        return node == self.root\n",
    "    \n",
    "    def max_depth(self, root: Node):\n",
    "        if not root:\n",
    "            return 0\n",
    "        return 1 + max(self.max_depth(root.left), self.max_depth(root.right))\n",
    "\n",
    "    def pre_order(self, root, res=[]):\n",
    "        if root: \n",
    "            res.append(root.value)\n",
    "            self.pre_order(root.left, res)\n",
    "            self.pre_order(root.right, res)\n",
    "        return res\n",
    "    \n",
    "    def in_order(self, root, res=[]):\n",
    "        if root:\n",
    "            self.in_order(root.left, res)\n",
    "            res.append(root.value)\n",
    "            self.in_order(root.right, res)\n",
    "        return res\n",
    "\n",
    "    \n",
    "    def post_order(self, root, res=[]):\n",
    "        if root:\n",
    "            self.post_order(root.left, res)\n",
    "            self.post_order(root.right, res)\n",
    "            res.append(root.value)\n",
    "        return res\n",
    "    \n",
    "    def breadth_first(self):\n",
    "        queue = Queue()\n",
    "        queue.enqueue(self.root)\n",
    "        res = []\n",
    "\n",
    "        while queue:\n",
    "            p = queue.dequeue()\n",
    "            res.append(p.value)\n",
    "            if p.left:\n",
    "                queue.enqueue(p.left)\n",
    "            if p.right:\n",
    "                queue.enqueue(p.right)\n",
    "        \n",
    "        return res\n",
    "    \n",
    "    # def __str__(self):\n",
    "    #     def update(root, row, column):\n",
    "    #         if root is None:\n",
    "    #             return\n",
    "    #         if not self.is_root(root):\n",
    "    #             if root.parent.left and root.parent.left.value == root.value:\n",
    "    #                 ans[row][column] = f\"{str(root.value)}\"\n",
    "    #             if root.parent.right and root.parent.right.value == root.value:\n",
    "    #                 ans[row][column] = f\"{str(root.value)}\"\n",
    "    #         else:\n",
    "    #             ans[row][column] = f\"{str(root.value)}\"\n",
    "    #         update(root.left, row + 1, column - 2 ** (height - 1  - row - 1))\n",
    "    #         update(root.right, row + 1, column + 2 ** (height - 1 - row - 1))\n",
    "    #     height = self.max_depth(self.root)\n",
    "    #     ans = [[\" \" for i in range(2 ** height - 1)] for j in range(height)]\n",
    "    #     update(self.root, 0, 2 ** (height - 1) - 1)\n",
    "    #     return \"\\n\".join([\"\".join(row) for row in ans])"
   ]
  },
  {
   "attachments": {},
   "cell_type": "markdown",
   "metadata": {},
   "source": [
    "### b. Performing these tasks.\n",
    "- Create a tree\n",
    "- Use postorder traversal algorithm to travel the tree and print out the result.\n",
    "- Use traversal algorithm to print out: 1, 2, 3, 4, 5, 6, 7, 8, 9, 10, 11, 12, 13, 14, 15,\n",
    "16, 17, 18, 19, 20, 21.\n",
    "- Use traversal algorithm to print out: 8, 4, 9, 2, 10, 5, 16, 11, 20, 17, 1, 12, 6, 13, 3, 18, 14, 21, 19, 7, 15."
   ]
  },
  {
   "cell_type": "code",
   "execution_count": 3,
   "metadata": {},
   "outputs": [],
   "source": [
    "# for i in range(1, 22):\n",
    "#     print(f\"n{i} = Node({i})\")\n",
    "\n",
    "n1 = Node(1)\n",
    "n2 = Node(2)\n",
    "n3 = Node(3)\n",
    "n4 = Node(4)\n",
    "n5 = Node(5)\n",
    "n6 = Node(6)\n",
    "n7 = Node(7)\n",
    "n8 = Node(8)\n",
    "n9 = Node(9)\n",
    "n10 = Node(10)\n",
    "n11 = Node(11)\n",
    "n12 = Node(12)\n",
    "n13 = Node(13)\n",
    "n14 = Node(14)\n",
    "n15 = Node(15)\n",
    "n16 = Node(16)\n",
    "n17 = Node(17)\n",
    "n18 = Node(18)\n",
    "n19 = Node(19)\n",
    "n20 = Node(20)\n",
    "n21 = Node(21)\n",
    "\n",
    "\n",
    "tree = BinaryTree(n1)\n",
    "\n",
    "tree.add_left(n1, n2)\n",
    "tree.add_left(n2, n4)\n",
    "tree.add_right(n2, n5)\n",
    "tree.add_left(n4, n8)\n",
    "tree.add_right(n4, n9)\n",
    "tree.add_left(n5, n10)\n",
    "tree.add_right(n5, n11)\n",
    "tree.add_left(n11, n16)\n",
    "tree.add_right(n11, n17)\n",
    "tree.add_left(n17, n20)\n",
    "\n",
    "tree.add_right(n1, n3)\n",
    "tree.add_left(n3, n6)\n",
    "tree.add_right(n3, n7)\n",
    "tree.add_left(n6, n12)\n",
    "tree.add_right(n6, n13)\n",
    "tree.add_left(n7, n14)\n",
    "tree.add_right(n7, n15)\n",
    "tree.add_left(n14, n18)\n",
    "tree.add_right(n14, n19)\n",
    "tree.add_left(n19, n21)"
   ]
  },
  {
   "cell_type": "code",
   "execution_count": 4,
   "metadata": {},
   "outputs": [
    {
     "name": "stdout",
     "output_type": "stream",
     "text": [
      "Postorder:\t [8, 9, 4, 10, 16, 20, 17, 11, 5, 2, 12, 13, 6, 18, 21, 19, 14, 15, 7, 3, 1]\n",
      "Preorder:\t [1, 2, 4, 8, 9, 5, 10, 11, 16, 17, 20, 3, 6, 12, 13, 7, 14, 18, 19, 21, 15]\n",
      "Inorder:\t [8, 4, 9, 2, 10, 5, 16, 11, 20, 17, 1, 12, 6, 13, 3, 18, 14, 21, 19, 7, 15]\n",
      "Breadth-first:\t [1, 2, 3, 4, 5, 6, 7, 8, 9, 10, 11, 12, 13, 14, 15, 16, 17, 18, 19, 20, 21]\n"
     ]
    }
   ],
   "source": [
    "print('Postorder:\\t',       tree.post_order(tree.root))\n",
    "print('Preorder:\\t',        tree.pre_order(tree.root))\n",
    "print('Inorder:\\t',         tree.in_order(tree.root))\n",
    "print('Breadth-first:\\t',   tree.breadth_first())\n"
   ]
  },
  {
   "attachments": {},
   "cell_type": "markdown",
   "metadata": {},
   "source": [
    "# Problem 2: Tree Traversal Applications"
   ]
  },
  {
   "attachments": {},
   "cell_type": "markdown",
   "metadata": {},
   "source": [
    "Write a function based on any tree traversal algorithm that you learned to print out the total number of nodes in a tree."
   ]
  },
  {
   "cell_type": "code",
   "execution_count": 5,
   "metadata": {},
   "outputs": [
    {
     "name": "stdout",
     "output_type": "stream",
     "text": [
      "Total number of nodes in a tree: 21\n"
     ]
    }
   ],
   "source": [
    "def total_of_nodes(root: Node):\n",
    "    if not root:\n",
    "        return 0\n",
    "    \n",
    "    return 1 + total_of_nodes(root.left) + total_of_nodes(root.right)\n",
    "    \n",
    "print('Total number of nodes in a tree:', total_of_nodes(tree.root))"
   ]
  },
  {
   "attachments": {},
   "cell_type": "markdown",
   "metadata": {},
   "source": [
    "Write a function based on any tree traversal algorithm that you learned to print out number of nodes that has the value smaller than a given number (for example: 9).\n"
   ]
  },
  {
   "cell_type": "code",
   "execution_count": 6,
   "metadata": {},
   "outputs": [
    {
     "name": "stdout",
     "output_type": "stream",
     "text": [
      "Number of nodes that has the value smaller than 9: 8\n"
     ]
    }
   ],
   "source": [
    "def find_smaller_than(root: Node, val, res=[]):\n",
    "    if root:\n",
    "        if root.value < val:\n",
    "            res.append(root.value)\n",
    "        find_smaller_than(root.left, val, res)\n",
    "        find_smaller_than(root.right, val, res)\n",
    "    return res\n",
    "\n",
    "print('Number of nodes that has the value smaller than 9:', len(find_smaller_than(tree.root, 9)))"
   ]
  },
  {
   "attachments": {},
   "cell_type": "markdown",
   "metadata": {},
   "source": [
    "Write a function based on Breadth - First traversal algorithm to calculate the sum of all elements in the tree.\n"
   ]
  },
  {
   "cell_type": "code",
   "execution_count": 7,
   "metadata": {},
   "outputs": [
    {
     "name": "stdout",
     "output_type": "stream",
     "text": [
      "Sum of all elements in the tree: 231\n"
     ]
    }
   ],
   "source": [
    "def sum_of_nodes(root: Node):\n",
    "    queue = Queue()\n",
    "    queue.enqueue(root)\n",
    "    result = 0\n",
    "\n",
    "    while queue:\n",
    "        p = queue.dequeue()\n",
    "        result += p.value\n",
    "        if p.left:\n",
    "            queue.enqueue(p.left)\n",
    "        if p.right:\n",
    "            queue.enqueue(p.right)\n",
    "    \n",
    "    return result\n",
    "\n",
    "print('Sum of all elements in the tree:', sum_of_nodes(tree.root))"
   ]
  },
  {
   "attachments": {},
   "cell_type": "markdown",
   "metadata": {},
   "source": [
    "Write a function based on any tree traversal algorithm that you learned to print out the depth of the tree.\n"
   ]
  },
  {
   "cell_type": "code",
   "execution_count": 8,
   "metadata": {},
   "outputs": [
    {
     "name": "stdout",
     "output_type": "stream",
     "text": [
      "Depth of the tree: 6\n"
     ]
    }
   ],
   "source": [
    "def max_depth(root: Node):\n",
    "    if not root:\n",
    "        return 0\n",
    "    return 1 + max(max_depth(root.left), max_depth(root.right))\n",
    "\n",
    "print('Depth of the tree:', max_depth(tree.root))"
   ]
  },
  {
   "attachments": {},
   "cell_type": "markdown",
   "metadata": {},
   "source": [
    "# Problem 3: Special Traversal of Binary Tree"
   ]
  },
  {
   "attachments": {},
   "cell_type": "markdown",
   "metadata": {},
   "source": [
    "Given a binary tree as below, identify all diagonal elements that belong to the same line as the nodes that intersect lines with a slope of -1, and output them. "
   ]
  },
  {
   "cell_type": "code",
   "execution_count": 9,
   "metadata": {},
   "outputs": [],
   "source": [
    "n1 = Node(8)\n",
    "n2 = Node(3)\n",
    "n3 = Node(1)\n",
    "n4 = Node(10)\n",
    "n5 = Node(6)\n",
    "n6 = Node(4)\n",
    "n7 = Node(7)\n",
    "n8 = Node(14)\n",
    "n9 = Node(13)\n",
    "\n",
    "\n",
    "tree2 = BinaryTree(n1)\n",
    "\n",
    "tree2.add_left(n1, n2)\n",
    "tree2.add_left(n2, n3)\n",
    "tree2.add_right(n1, n4)\n",
    "tree2.add_left(n4, n5)\n",
    "tree2.add_left(n5, n6)\n",
    "tree2.add_right(n5, n7)\n",
    "tree2.add_right(n4, n8)\n",
    "tree2.add_left(n8, n9)"
   ]
  },
  {
   "cell_type": "code",
   "execution_count": 10,
   "metadata": {},
   "outputs": [
    {
     "name": "stdout",
     "output_type": "stream",
     "text": [
      "8 3 1 10 6 4 7 14 13 \n",
      "\n",
      "[8, 10, 14]\n",
      "\n",
      "\n",
      "[3, 6, 7, 13]\n",
      "\n",
      "\n",
      "[1, 4]\n"
     ]
    }
   ],
   "source": [
    "# first approach: matched output\n",
    "def diagonal_traversal(root, result=[], level=0):\n",
    "    if not root:\n",
    "        return\n",
    "\n",
    "    if level > len(result)-1:\n",
    "        result.append([root.value])\n",
    "    else:\n",
    "        result[level].append(root.value)\n",
    "\n",
    "    print(root.value, end= ' ')\n",
    "\n",
    "    diagonal_traversal(root.left, result, level + 1)\n",
    "    diagonal_traversal(root.right, result, level)\n",
    "    \n",
    "    return result\n",
    "\n",
    "for level in diagonal_traversal(tree2.root):\n",
    "    print('\\n')\n",
    "    print(level)"
   ]
  },
  {
   "cell_type": "code",
   "execution_count": 11,
   "metadata": {},
   "outputs": [
    {
     "name": "stdout",
     "output_type": "stream",
     "text": [
      "[[8, 10, 14], [3, 6, 7, 13], [1, 4]]\n"
     ]
    }
   ],
   "source": [
    "\n",
    "def diagonal_traversal(root):\n",
    "    queue = [root]\n",
    "    res = [[]]\n",
    "\n",
    "    while queue:\n",
    "        current = queue.pop(0)\n",
    "        if root.left == current:\n",
    "            res.append([current.value])\n",
    "            root = current\n",
    "        else:\n",
    "            res[-1].append(current.value)\n",
    "\n",
    "        if current.right:\n",
    "            queue.insert(0, current.right)\n",
    "\n",
    "        if current.left:\n",
    "            queue.append(current.left)\n",
    "\n",
    "    return res\n",
    "\n",
    "print(diagonal_traversal(tree2.root))"
   ]
  },
  {
   "cell_type": "code",
   "execution_count": 12,
   "metadata": {},
   "outputs": [
    {
     "name": "stdout",
     "output_type": "stream",
     "text": [
      "8 10 \n",
      "\n",
      "None\n"
     ]
    }
   ],
   "source": [
    "def diagonal_traversal(root):\n",
    "    if not root:\n",
    "        return\n",
    "    \n",
    "    temp = root\n",
    "    while root.right:\n",
    "        print(root.value, end=' ')\n",
    "        root = root.right\n",
    "    \n",
    "    root = temp\n",
    "    if root.left:\n",
    "        print()\n",
    "        diagonal_traversal(root.left)\n",
    "\n",
    "print(diagonal_traversal(tree2.root))"
   ]
  },
  {
   "cell_type": "code",
   "execution_count": null,
   "metadata": {},
   "outputs": [],
   "source": []
  }
 ],
 "metadata": {
  "kernelspec": {
   "display_name": "Python 3",
   "language": "python",
   "name": "python3"
  },
  "language_info": {
   "codemirror_mode": {
    "name": "ipython",
    "version": 3
   },
   "file_extension": ".py",
   "mimetype": "text/x-python",
   "name": "python",
   "nbconvert_exporter": "python",
   "pygments_lexer": "ipython3",
   "version": "3.10.8"
  },
  "orig_nbformat": 4,
  "vscode": {
   "interpreter": {
    "hash": "aee8b7b246df8f9039afb4144a1f6fd8d2ca17a180786b69acc140d282b71a49"
   }
  }
 },
 "nbformat": 4,
 "nbformat_minor": 2
}
