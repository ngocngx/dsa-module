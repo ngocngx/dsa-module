{
  "cells": [
    {
      "cell_type": "markdown",
      "metadata": {
        "id": "bY8_1YI1FVKd"
      },
      "source": [
        "BÀI NỘP DƯỚI DẠNG FILE NOTEBOOK! \n",
        "\n",
        "---\n",
        "SINH VIÊN KHÔNG ĐƯỢC SỬ DỤNG INTERNET, THƯ VIỆN (NẾU KHÔNG ĐƯỢC THÔNG BÁO) HAY BẤT CỨ TÀI LIỆU NÀO TRÊN MÁY TÍNH ĐỂ THAM KHẢO. ĐƯỢC PHÉP SỬ DỤNG PYCHARM HOẶC CÁC IDE KHÁC ĐỂ DEBUG.\n",
        "\n",
        "---\n",
        "ĐỊNH DẠNG TÊN FILE NỘP BÀI:\n",
        "TênSinhViên_MãSinhViên_MIDTERM1_DSA.ipynb"
      ]
    },
    {
      "cell_type": "markdown",
      "metadata": {
        "id": "cPhMJEhjFZtv"
      },
      "source": [
        "## **Problem 1:**"
      ]
    },
    {
      "cell_type": "code",
      "execution_count": 1,
      "metadata": {
        "id": "N8DeZUvI4NhG"
      },
      "outputs": [],
      "source": [
        "class Animal:\n",
        "    def __init__(self, name: str = None, age: int = None):\n",
        "        self._name = name\n",
        "        self._age = age\n",
        "\n",
        "    def get_name(self):\n",
        "        return self._name\n",
        "\n",
        "    def get_age(self):\n",
        "        return self._age\n",
        "\n",
        "    def __str__(self):\n",
        "        return f'Name: {self.get_name()}\\nAge: {self.get_age()}'\n"
      ]
    },
    {
      "cell_type": "code",
      "execution_count": 2,
      "metadata": {
        "colab": {
          "base_uri": "https://localhost:8080/"
        },
        "id": "IV6IiILq4Nd3",
        "outputId": "a53dcb7b-493a-47c7-ff66-3c10a041c1fb"
      },
      "outputs": [
        {
          "name": "stdout",
          "output_type": "stream",
          "text": [
            "Name: A\n",
            "Age: 2\n"
          ]
        }
      ],
      "source": [
        "animal_demo = Animal(name='A', age=2)\n",
        "print(animal_demo)"
      ]
    },
    {
      "attachments": {},
      "cell_type": "markdown",
      "metadata": {
        "id": "xEzk6n9S5KPM"
      },
      "source": [
        "**Part 1.1 (2 point)** Create a class Dog, known that a Dog is an Animal, and add attributes (all of the attributes are nonpublic):\n",
        "- species\n",
        "- color\n",
        "- weight (lb)\n",
        "\n",
        "Add methods to\n",
        "- get the value of each of these attributes above (format: get_x(self)).\n",
        "- update_age(self, months) to update new *age* after *months*\n",
        "- update_weight(self, new_weight) to update new *weight*.\n",
        "\n",
        "**Requirement**: in update methods please check for the validation of the input.\n",
        "- represent the Dog's information by formatting all the instance variables into an introduction.\n",
        "\n",
        "**Requirement**: Use \\__str__ or \\__repr__ methods.\n"
      ]
    },
    {
      "cell_type": "code",
      "execution_count": 3,
      "metadata": {},
      "outputs": [],
      "source": [
        "class Dog(Animal):\n",
        "    def __init__(self, name: str = None, age: int = None, species: str = None, color: str = None, weight: int = None):\n",
        "        super().__init__(name, age)\n",
        "        self._species = species\n",
        "        self._color = color\n",
        "        self._weight = weight\n",
        "    \n",
        "    def get_name(self):\n",
        "        return super().get_name()\n",
        "    \n",
        "    def get_age(self):\n",
        "        return super().get_age()\n",
        "    \n",
        "    def get_species(self):\n",
        "        return self._species\n",
        "    \n",
        "    def get_color(self):\n",
        "        return self._color\n",
        "    \n",
        "    def get_weight(self):\n",
        "        return self._weight\n",
        "    \n",
        "    def update_age(self, months):\n",
        "        if not isinstance(months, int):\n",
        "            raise ValueError('Months must be an integer or float value.')\n",
        "        self._age += months\n",
        "    \n",
        "    def update_weight(self, new_weight):\n",
        "        if not isinstance(new_weight, int):\n",
        "            raise ValueError('Months must be an integer or float value.')\n",
        "        self._weight = new_weight\n",
        "    \n",
        "    def __str__(self):\n",
        "        res = f\"\"\"\n",
        "        Name: {self.get_name()}\n",
        "        Age: {self.get_age()} (months)\n",
        "        Species: {self.get_species()}\n",
        "        Color: {self.get_color()}\n",
        "        Weight: {self.get_weight()} (lb)\"\"\"\n",
        "        return res"
      ]
    },
    {
      "cell_type": "markdown",
      "metadata": {},
      "source": [
        "\n",
        "\n",
        "**Part 1.2 (1 point)** Create a Dog with information:\n",
        "- name: Max\n",
        "- age: 3 (months)\n",
        "- species: Samoyed\n",
        "- color: white\n",
        "- weight: 18 (lb)\n",
        "\n",
        "Overloading to represent Max's information.\n",
        "After 6 months, Max's weight increases to 40 lb, update this information and overload to check."
      ]
    },
    {
      "cell_type": "code",
      "execution_count": 4,
      "metadata": {},
      "outputs": [
        {
          "name": "stdout",
          "output_type": "stream",
          "text": [
            "\n",
            "        Name: Max\n",
            "        Age: 3 (months)\n",
            "        Species: Samoyed\n",
            "        Color: white\n",
            "        Weight: 18 (lb)\n"
          ]
        }
      ],
      "source": [
        "MaxTheDog = Dog('Max', 3, 'Samoyed', 'white', 18)\n",
        "print(MaxTheDog)"
      ]
    },
    {
      "cell_type": "code",
      "execution_count": 5,
      "metadata": {},
      "outputs": [
        {
          "name": "stdout",
          "output_type": "stream",
          "text": [
            "\n",
            "        Name: Max\n",
            "        Age: 9 (months)\n",
            "        Species: Samoyed\n",
            "        Color: white\n",
            "        Weight: 40 (lb)\n"
          ]
        }
      ],
      "source": [
        "MaxTheDog.update_weight(40)\n",
        "MaxTheDog.update_age(6)\n",
        "print(MaxTheDog)"
      ]
    },
    {
      "cell_type": "markdown",
      "metadata": {
        "id": "qZdYzaY0F_9r"
      },
      "source": [
        "## **Problem 2**: (2 point)\n",
        "Using recursion, write a program to reverse the following strings:\n",
        "> String 1: \"ManUtd Liverpool\"\n",
        "\n",
        "> Output: 'loopreviL dtUnaM'\n",
        "\n",
        "> String 2: \"NewJeans\"\n",
        "\n",
        "> Output: 'snaeJweN'\n"
      ]
    },
    {
      "cell_type": "code",
      "execution_count": 6,
      "metadata": {},
      "outputs": [],
      "source": [
        "def reverse(astring: str):\n",
        "    if not isinstance(astring, str):\n",
        "        raise TypeError('Input must be a string')\n",
        "    \n",
        "    if astring:\n",
        "        return reverse(astring[1:]) + astring[0]\n",
        "    else:\n",
        "        return astring"
      ]
    },
    {
      "cell_type": "code",
      "execution_count": 7,
      "metadata": {},
      "outputs": [
        {
          "data": {
            "text/plain": [
              "'loopreviL dtUnaM'"
            ]
          },
          "execution_count": 7,
          "metadata": {},
          "output_type": "execute_result"
        }
      ],
      "source": [
        "reverse('ManUtd Liverpool')"
      ]
    },
    {
      "cell_type": "code",
      "execution_count": 8,
      "metadata": {},
      "outputs": [
        {
          "data": {
            "text/plain": [
              "'snaeJweN'"
            ]
          },
          "execution_count": 8,
          "metadata": {},
          "output_type": "execute_result"
        }
      ],
      "source": [
        "reverse('NewJeans')"
      ]
    },
    {
      "cell_type": "markdown",
      "metadata": {
        "id": "L-xj64GuGUBJ"
      },
      "source": [
        "## **Problem 3** (2 point):\n",
        "Using Queue to implement Stack: create a class whose name is StackByQueue\n",
        "\n",
        "Remember to check whether all methods work well\n",
        "\n",
        "Note: You can use Queue class implementation below or self-implement the Queue class"
      ]
    },
    {
      "cell_type": "code",
      "execution_count": 9,
      "metadata": {
        "id": "GHs2cbYO4Naq"
      },
      "outputs": [],
      "source": [
        "# Given FIFO Queue implementation using a Python list as underlying storage.\n",
        "class Empty(Exception):\n",
        "    \"\"\"Error attempting to access an element from an empty container.\"\"\"\n",
        "    pass\n",
        "\n",
        "class Full(Exception):\n",
        "    \"\"\"Error attempting to access an element from a full container.\"\"\"\n",
        "    pass\n",
        "\n",
        "class Queue:\n",
        "    def __init__(self):\n",
        "        self._data = []\n",
        "        self._size = 0\n",
        "        \n",
        "    def __len__(self):\n",
        "        return self._size\n",
        "        \n",
        "    def is_empty(self):\n",
        "        return self._size == 0\n",
        "    \n",
        "    def __repr__(self):\n",
        "        return str(self._data)\n",
        "    \n",
        "    def first(self):\n",
        "        if self.is_empty():\n",
        "            raise Empty(\"Queue is empty\") \n",
        "        return self._data[0]\n",
        "    \n",
        "    def dequeue(self):\n",
        "        if self.is_empty():\n",
        "            raise Empty(\"Queue is empty\") \n",
        "        self._size -= 1\n",
        "        return self._data.pop(0) \n",
        "    \n",
        "    def enqueue(self, e):\n",
        "        self._data.append(e)\n",
        "        self._size += 1"
      ]
    },
    {
      "cell_type": "markdown",
      "metadata": {
        "id": "6byEunP3GdF2"
      },
      "source": [
        "Fill your code below:"
      ]
    },
    {
      "cell_type": "code",
      "execution_count": 10,
      "metadata": {
        "id": "Sktt0ZGJFjKq"
      },
      "outputs": [],
      "source": [
        "class StackByQueue:\n",
        "    def __init__(self):\n",
        "        self._data = Queue()\n",
        "    \n",
        "    def is_empty(self):\n",
        "        return len(self._data) == 0\n",
        "    \n",
        "    def __len__(self): \n",
        "        return len(self._data)\n",
        "    \n",
        "    def push(self, e):\n",
        "        self._data.enqueue(e)\n",
        "    \n",
        "    def pop(self):\n",
        "        if self.is_empty():\n",
        "            raise Empty(\"Stack is empty\") \n",
        "        \n",
        "        temp = Queue()\n",
        "        while len(self._data) > 1:\n",
        "            temp.enqueue(self._data.dequeue())\n",
        "\n",
        "        ans = self._data.dequeue()\n",
        "\n",
        "        while temp:\n",
        "            self._data.enqueue(temp.dequeue())\n",
        "            \n",
        "        return ans\n",
        "    \n",
        "    def top(self): \n",
        "        if self.is_empty():\n",
        "            raise Empty(\"Stack is empty\") \n",
        "        \n",
        "        temp = Queue()\n",
        "        while len(self._data) > 1:\n",
        "            temp.enqueue(self._data.dequeue())\n",
        "        \n",
        "        ans = self._data.dequeue()\n",
        "\n",
        "        while temp:\n",
        "            self._data.enqueue(temp.dequeue())\n",
        "        self._data.enqueue(ans)\n",
        "            \n",
        "        return ans\n",
        "        \n",
        "    def __repr__(self):\n",
        "        return str(self._data)"
      ]
    },
    {
      "cell_type": "code",
      "execution_count": 11,
      "metadata": {
        "id": "vXmV88OPGinC"
      },
      "outputs": [
        {
          "name": "stdout",
          "output_type": "stream",
          "text": [
            "len(S):  \t 2\n",
            "S.top():  \t 2\n",
            "print out S:  \t [1, 2]\n",
            "S.pop():  \t 2\n",
            "S.is_empty():  \t False\n",
            "print out S: \t [1]\n",
            "S.pop():  \t 1\n",
            "S.is_empty():  \t True\n"
          ]
        }
      ],
      "source": [
        "# Run this block of code to check if all method work well\n",
        "S = StackByQueue()\n",
        "S.push(1)\n",
        "S.push(2)\n",
        "\n",
        "print(\"len(S): \", \"\\t\",  len(S))\n",
        "print(\"S.top(): \", \"\\t\", S.top())\n",
        "print(\"print out S: \", \"\\t\", S)\n",
        "print(\"S.pop(): \", \"\\t\", S.pop())\n",
        "print(\"S.is_empty(): \", \"\\t\", S.is_empty())\n",
        "print(\"print out S:\", \"\\t\", S)\n",
        "print(\"S.pop(): \", \"\\t\", S.pop())\n",
        "print(\"S.is_empty(): \", \"\\t\", S.is_empty())"
      ]
    },
    {
      "cell_type": "markdown",
      "metadata": {
        "id": "LZc12lTEGobm"
      },
      "source": [
        "## **Problem 4**\n",
        "\n",
        "**Part 1.1 (1.5 point)** Given a DoublyLinkedList class template as below. Implement method `__delitem__` and `sort_by_value` for the linked list:\n",
        "\n",
        "**Requirement:** \n",
        "- All two methods must have O(n) time complexity and O(1) space complexity of worse case.\n",
        "- In each method, please check for the validation of the input or check if the current list is empty.\n",
        "\n",
        "Note: This is a template. Although it has all you need, you can implement methods of your choice as long as they follow doubly linked list mechanism."
      ]
    },
    {
      "cell_type": "code",
      "execution_count": 12,
      "metadata": {
        "id": "_BBTnQosGr1W"
      },
      "outputs": [],
      "source": [
        "class Node:\n",
        "    def __init__(self, data):\n",
        "        self.data = data\n",
        "        self.next = None\n",
        "        self.prev = None\n",
        "\n",
        "    def __str__(self):\n",
        "        return str(self.data)\n",
        "\n",
        "class DoublyLinkedList:\n",
        "    def __init__(self):\n",
        "        \"\"\"Implementation of a doubly linked list\"\"\"\n",
        "        self._head = None\n",
        "        self._size = 0\n",
        "\n",
        "    def head(self):\n",
        "        \"\"\"Method to get head of the list\"\"\"\n",
        "        return self._head\n",
        "        \n",
        "    def __len__(self):\n",
        "        \"\"\"Method to get the current number of elements in the list\"\"\"\n",
        "        return self._size\n",
        "\n",
        "    def is_empty(self):\n",
        "        \"\"\"Method to check if the list is empty\"\"\"\n",
        "        return self._head is None\n",
        "\n",
        "    def __getitem__(self, k):\n",
        "        \"\"\"Method to get element at index k\n",
        "        k must be non negative interger and not exceed list size\"\"\"\n",
        "        # Validation check for input is hidden\n",
        "        if k == 0:\n",
        "          return self._head\n",
        "        temp = self._head\n",
        "        while k > 0:\n",
        "          temp = temp.next\n",
        "          k -= 1\n",
        "        return temp\n",
        "    \n",
        "    def insert_head(self, new: Node):\n",
        "        \"\"\"Method to insert a new head to the list\"\"\"\n",
        "        if self.is_empty():\n",
        "            self._head = new\n",
        "        else:\n",
        "            new.next = self._head\n",
        "            self._head.prev = new\n",
        "            self._head = new\n",
        "        self._size += 1\n",
        "        \n",
        "    def __delitem__(self, k: int):\n",
        "        \"\"\"Method to delete element at index k of the list\n",
        "        k must be non negative interger and not exceed list size\"\"\"\n",
        "        if self.is_empty():\n",
        "            raise Empty(\"List is empty\")\n",
        "        \n",
        "        if not isinstance(k, int) or not 0 <= k < len(self):\n",
        "            raise IndexError(\"k must be non negative interger and not exceed list size\")\n",
        "        \n",
        "        if k == 0:\n",
        "            self._head = self._head.next\n",
        "            self._size -= 1\n",
        "\n",
        "        elif k < len(self) - 1:\n",
        "            current = self._head\n",
        "            for i in range(k-1):\n",
        "                current = current.next\n",
        "            \n",
        "            current.next = current.next.next\n",
        "            current.next.prev = current\n",
        "            self._size -= 1\n",
        "\n",
        "        else:\n",
        "            current = self._head\n",
        "            for i in range(k-1):\n",
        "                current = current.next\n",
        "            current.next = None\n",
        "            self._size -= 1\n",
        "\n",
        "    def sort_by_value(self):\n",
        "        \"\"\"Method to sort the list by value from lowest to highest\"\"\"\n",
        "        if self.is_empty():\n",
        "            raise Empty(\"List is empty\") \n",
        "        \n",
        "        if len(self) == 1:\n",
        "            return self\n",
        "        \n",
        "        current = self._head\n",
        "        while current:\n",
        "            while current.next and current.data < current.next.data:\n",
        "                current.data, current.next.data = current.next.data, current.data\n",
        "                current = self._head\n",
        "            current = current.next\n",
        "        \n",
        "    def __repr__(self):\n",
        "        output = ''\n",
        "        temp = self._head\n",
        "        while temp:\n",
        "            output += str(temp) + '\\t'\n",
        "            temp = temp.next\n",
        "        return output"
      ]
    },
    {
      "cell_type": "markdown",
      "metadata": {
        "id": "mtvpLMStGxA8"
      },
      "source": [
        "**Part 1.2 (1 point)** Now check your implementation by performing following tasks:\n",
        "1. Create a doubly linked list containing nodes in listNum\n",
        "2. Try deleting elements at the following indices \n",
        "\n",
        "```\n",
        "k = [0, 15, 'end']\n",
        "```\n",
        "3. Delete elements whose values are higher than 100.\n",
        "4. Sort the list by the node's values in descending order (from highest to lowest)."
      ]
    },
    {
      "cell_type": "code",
      "execution_count": 13,
      "metadata": {
        "id": "Ik91rdydGujT"
      },
      "outputs": [
        {
          "name": "stdout",
          "output_type": "stream",
          "text": [
            "200\t84\t107\t18\t72\t90\t45\t50\t101\t\n"
          ]
        }
      ],
      "source": [
        "# 1. Create a doubly linked list containing nodes in listNum\n",
        "\n",
        "listNum = [Node(101), Node(50), Node(45), Node(90), Node(72), Node(18), Node(107), Node(84), Node(200)]\n",
        "DLL = DoublyLinkedList()\n",
        "\n",
        "for node in listNum:\n",
        "    DLL.insert_head(node)\n",
        "print(DLL)\n"
      ]
    },
    {
      "cell_type": "code",
      "execution_count": 14,
      "metadata": {},
      "outputs": [
        {
          "name": "stdout",
          "output_type": "stream",
          "text": [
            "84\t107\t18\t72\t90\t45\t50\t101\t\n"
          ]
        }
      ],
      "source": [
        "# 2. Try deleting elements at the following indices \n",
        "del DLL[0]\n",
        "print(DLL)\n"
      ]
    },
    {
      "cell_type": "code",
      "execution_count": null,
      "metadata": {},
      "outputs": [],
      "source": [
        "\n",
        "# del DLL[15]\n",
        "# print(DLL)\n",
        "\n",
        "# del DLL['end']\n",
        "# DLL"
      ]
    },
    {
      "cell_type": "code",
      "execution_count": 15,
      "metadata": {},
      "outputs": [
        {
          "name": "stdout",
          "output_type": "stream",
          "text": [
            "84\t18\t72\t90\t45\t50\t\n"
          ]
        }
      ],
      "source": [
        "# 3. Delete elements whose values are higher than 100.\n",
        "current = DLL._head\n",
        "i = 0\n",
        "\n",
        "while current:\n",
        "    if current.data > 100:\n",
        "        del DLL[i]\n",
        "        i -= 1\n",
        "    current = current.next\n",
        "    i += 1\n",
        "\n",
        "print(DLL)"
      ]
    },
    {
      "cell_type": "code",
      "execution_count": 16,
      "metadata": {},
      "outputs": [
        {
          "name": "stdout",
          "output_type": "stream",
          "text": [
            "90\t84\t72\t50\t45\t18\t\n"
          ]
        }
      ],
      "source": [
        "# 4. Sort the list by the node's values in descending order (from highest to lowest).\n",
        "DLL.sort_by_value()\n",
        "\n",
        "print(DLL)"
      ]
    },
    {
      "cell_type": "markdown",
      "metadata": {
        "id": "UEzkba9MG_Ed"
      },
      "source": [
        "**Part 2. (0.5 point)** Using only the DoublyLinkedList in part 1 to implement a function to convert a ternary number to a decimal number."
      ]
    },
    {
      "cell_type": "code",
      "execution_count": 17,
      "metadata": {
        "id": "1bXpIxA9GugT"
      },
      "outputs": [],
      "source": [
        "def validate(ter):\n",
        "    if not isinstance(ter, int):\n",
        "        raise TypeError('Input must be integer.')\n",
        "\n",
        "    terString = str(ter)\n",
        "    for c in terString[1:]:\n",
        "        if int(c) not in range(3):\n",
        "            raise ValueError('All digit must be 0, 1, or 2.')\n",
        "\n",
        "\n",
        "def ter_to_dec(terNum):\n",
        "    validate(terNum)\n",
        "    \n",
        "    negative = False\n",
        "    if terNum < 0:\n",
        "        negative = True\n",
        "        terNum = - terNum\n",
        "    \n",
        "    terList = DoublyLinkedList()\n",
        "    for i in str(terNum):\n",
        "        terList.insert_head(Node(i))\n",
        "\n",
        "    decNum = 0\n",
        "    current = terList._head\n",
        "    power = 0\n",
        "\n",
        "    while current:\n",
        "        decNum += int(current.data) * (3**power)\n",
        "        power += 1\n",
        "        current = current.next\n",
        "    \n",
        "    if negative:\n",
        "        decNum = - decNum\n",
        "\n",
        "    return decNum"
      ]
    },
    {
      "cell_type": "code",
      "execution_count": 18,
      "metadata": {
        "id": "9LaeK1PzwUkX"
      },
      "outputs": [
        {
          "name": "stdout",
          "output_type": "stream",
          "text": [
            "Ternary: 100 \t Decimal: 9\n",
            "Ternary: 12 \t Decimal: 5\n",
            "Ternary: -22 \t Decimal: -8\n",
            "Ternary: 1002 \t Decimal: 29\n",
            "Ternary: 212 \t Decimal: 23\n"
          ]
        }
      ],
      "source": [
        "terNums = [100, 12, -22, 1002, 212]\n",
        "\n",
        "for num in terNums:\n",
        "    print(f'Ternary: {num} \\t Decimal: {ter_to_dec(num)}')"
      ]
    },
    {
      "cell_type": "markdown",
      "metadata": {
        "id": "HTd0GhJmIInt"
      },
      "source": [
        "CÁN BỘ COI THI KHÔNG GIẢI THÍCH GÌ THÊM"
      ]
    }
  ],
  "metadata": {
    "colab": {
      "provenance": []
    },
    "kernelspec": {
      "display_name": "Python 3",
      "name": "python3"
    },
    "language_info": {
      "codemirror_mode": {
        "name": "ipython",
        "version": 3
      },
      "file_extension": ".py",
      "mimetype": "text/x-python",
      "name": "python",
      "nbconvert_exporter": "python",
      "pygments_lexer": "ipython3",
      "version": "3.10.8"
    }
  },
  "nbformat": 4,
  "nbformat_minor": 0
}
