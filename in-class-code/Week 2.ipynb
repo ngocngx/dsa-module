{
 "cells": [
  {
   "cell_type": "code",
   "execution_count": 1,
   "metadata": {},
   "outputs": [],
   "source": [
    "def func1(S):\n",
    "    n = len(S)\n",
    "    A = [0]*n\n",
    "\n",
    "    for j in range(n):\n",
    "        total = 0\n",
    "        for i in range(j+1):\n",
    "            total += S[i]\n",
    "        A[j] = total/(j+1)\n",
    "\n",
    "    return A"
   ]
  },
  {
   "cell_type": "code",
   "execution_count": 2,
   "metadata": {},
   "outputs": [],
   "source": [
    "def func2(S):\n",
    "    n = len(S)\n",
    "    A = [0]*n\n",
    "\n",
    "    for j in range(n):\n",
    "        A[j] = sum(S[0:j+1])/(j+1)\n",
    "    \n",
    "    return A"
   ]
  },
  {
   "cell_type": "code",
   "execution_count": 3,
   "metadata": {},
   "outputs": [],
   "source": [
    "def func3(S):\n",
    "    n = len(S)\n",
    "    A = [0]*n\n",
    "    total = 0\n",
    "\n",
    "    for j in range(n):\n",
    "        total += S[j]\n",
    "        A[j] = total/(j+1)\n",
    "\n",
    "    return A"
   ]
  },
  {
   "cell_type": "code",
   "execution_count": 12,
   "metadata": {},
   "outputs": [
    {
     "name": "stdout",
     "output_type": "stream",
     "text": [
      "[96, 92, 88, 84, 80, 76, 72, 68, 64, 60, 56, 52, 48, 44, 40, 36, 32, 28, 24, 20, 16, 12, 8, 4, 0]\n"
     ]
    }
   ],
   "source": [
    "S = [i for i in range(0, 100, 4)]\n",
    "S.sort(reverse=True)\n",
    "print(S)"
   ]
  },
  {
   "cell_type": "code",
   "execution_count": 49,
   "metadata": {},
   "outputs": [
    {
     "name": "stdout",
     "output_type": "stream",
     "text": [
      "[7, 93, 98, 24, 84, 82, 90, 64, 46, 2, 30, 13, 53, 50, 25, 15, 19, 8, 26, 57]\n",
      "2 98\n"
     ]
    },
    {
     "data": {
      "text/plain": [
       "(2, 98)"
      ]
     },
     "execution_count": 49,
     "metadata": {},
     "output_type": "execute_result"
    }
   ],
   "source": [
    "import random\n",
    "randomlist = []\n",
    "for i in range(0,20):\n",
    "    n = random.randint(1,100)\n",
    "    randomlist.append(n)\n",
    "\n",
    "S = randomlist\n",
    "print(S)\n",
    "print(min(S), max(S))\n",
    "\n",
    "def func(S):\n",
    "    mx, mn = S[0], S[1]\n",
    "\n",
    "    for i in range(0, len(S), 2):\n",
    "        a, b = S[i], S[i+1]\n",
    "\n",
    "        if a<b:\n",
    "            if a<mn: mn = a\n",
    "            if b>mx: mx = b\n",
    "        else:\n",
    "            if a>mx: mx = a\n",
    "            if b<mn: mn = b\n",
    "\n",
    "    return mn, mx\n",
    "\n",
    "func(S)"
   ]
  },
  {
   "cell_type": "code",
   "execution_count": 50,
   "metadata": {},
   "outputs": [
    {
     "name": "stdout",
     "output_type": "stream",
     "text": [
      "165.0\n",
      "135\n"
     ]
    },
    {
     "data": {
      "text/plain": [
       "135"
      ]
     },
     "execution_count": 50,
     "metadata": {},
     "output_type": "execute_result"
    }
   ],
   "source": [
    "testList = [1, 3, 4, 5, 61, 96, 69, 13, 22, 2001]\n",
    "n = len(testList)\n",
    "def al(testList):\n",
    "    c = 0\n",
    "    for i in range(len(testList)):\n",
    "        for j in range(i+1, len(testList)):\n",
    "            c += 3\n",
    "            if  testList[j] < testList[i]:\n",
    "                testList[j], testList[i] = testList[i], testList[j]\n",
    "    return c\n",
    "\n",
    "print(3*(((n**2) + n) / 2))\n",
    "print(3*sum(range(n)))\n",
    "al(testList)"
   ]
  },
  {
   "cell_type": "code",
   "execution_count": 51,
   "metadata": {},
   "outputs": [
    {
     "data": {
      "text/plain": [
       "40"
      ]
     },
     "execution_count": 51,
     "metadata": {},
     "output_type": "execute_result"
    }
   ],
   "source": [
    "a = 100\n",
    "N = 40\n",
    "def  add(a, N):\n",
    "    c = 0\n",
    "    for i in range(N):\n",
    "        c += 1\n",
    "        a = a + 10\n",
    "    return c\n",
    "\n",
    "add(a, N)"
   ]
  },
  {
   "cell_type": "code",
   "execution_count": 56,
   "metadata": {},
   "outputs": [
    {
     "data": {
      "text/plain": [
       "1130"
      ]
     },
     "execution_count": 56,
     "metadata": {},
     "output_type": "execute_result"
    }
   ],
   "source": [
    "S = [i for i in range(10)]\n",
    "\n",
    "def count(A, B):\n",
    "    n = len(A)\n",
    "    count = 0\n",
    "    c = 0\n",
    "\n",
    "    for i in range(n):\n",
    "        c += 1\n",
    "        total = 0\n",
    "\n",
    "        for j in range(n):\n",
    "            for k in range(1+j):\n",
    "                c += 2\n",
    "                total += A[k]\n",
    "        c += 2\n",
    "        if B[i] == total:\n",
    "            count += 1\n",
    "    \n",
    "    return c\n",
    "\n",
    "count(S, S)"
   ]
  },
  {
   "cell_type": "code",
   "execution_count": 55,
   "metadata": {},
   "outputs": [
    {
     "name": "stdout",
     "output_type": "stream",
     "text": [
      "600\n"
     ]
    }
   ],
   "source": [
    "t = 0\n",
    "for i in range(1,11):\n",
    "    t += (i+1)*(i+2)\n",
    "    t += 3\n",
    "\n",
    "print(t)"
   ]
  },
  {
   "cell_type": "code",
   "execution_count": 61,
   "metadata": {},
   "outputs": [
    {
     "name": "stdout",
     "output_type": "stream",
     "text": [
      "6\n"
     ]
    }
   ],
   "source": [
    "# binary search\n",
    "def binom_search(a, num , x):\n",
    "    start = 0\n",
    "    end = x - 1\n",
    "    while (start <= end):\n",
    "      # mid = int((start + end) /2 )\n",
    "      mid = (start + end) // 2\n",
    "      if a[mid] == num:\n",
    "        return mid\n",
    "      elif a[mid] > num:\n",
    "        end = mid - 1\n",
    "      else:\n",
    "        start = mid + 1\n",
    "    return -1\n",
    "\n",
    "a = [1, 3, 4, 5, 6, 7, 9]\n",
    "print(binom_search(a, 9, len(a)))"
   ]
  },
  {
   "cell_type": "code",
   "execution_count": null,
   "metadata": {},
   "outputs": [],
   "source": []
  }
 ],
 "metadata": {
  "kernelspec": {
   "display_name": "Python 3",
   "language": "python",
   "name": "python3"
  },
  "language_info": {
   "codemirror_mode": {
    "name": "ipython",
    "version": 3
   },
   "file_extension": ".py",
   "mimetype": "text/x-python",
   "name": "python",
   "nbconvert_exporter": "python",
   "pygments_lexer": "ipython3",
   "version": "3.10.8"
  },
  "orig_nbformat": 4,
  "vscode": {
   "interpreter": {
    "hash": "98590ff4fe04c8543246b2a01debd3de3c5ca9b666f43f1fa87d5110c692004c"
   }
  }
 },
 "nbformat": 4,
 "nbformat_minor": 2
}
