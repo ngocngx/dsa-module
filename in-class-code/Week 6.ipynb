{
 "cells": [
  {
   "attachments": {},
   "cell_type": "markdown",
   "metadata": {},
   "source": [
    "Class Queue"
   ]
  },
  {
   "attachments": {},
   "cell_type": "markdown",
   "metadata": {},
   "source": [
    "Queue bo phan tu la O(1)\n",
    "List bo phan tu la O(n)"
   ]
  },
  {
   "cell_type": "code",
   "execution_count": 1,
   "metadata": {},
   "outputs": [],
   "source": [
    "from queue import Empty\n",
    "\n",
    "\n",
    "class Queue:\n",
    "    def __init__(self):\n",
    "        self._data = []\n",
    "        self._size = 0\n",
    "    \n",
    "\n",
    "    def __str__(self):\n",
    "        return str(self._data)\n",
    "    \n",
    "\n",
    "    def __len__(self):\n",
    "        return self._size\n",
    "    \n",
    "\n",
    "    def is_empty(self):\n",
    "        return self._size == 0\n",
    "\n",
    "\n",
    "    def enqueue(self, value):\n",
    "        self._data.append(value)\n",
    "        self._size += 1\n",
    "    \n",
    "\n",
    "    def dequeue(self):\n",
    "        if self.is_empty():\n",
    "            raise Empty('Queue is empty')\n",
    "        self._size -= 1\n",
    "        return self._data.pop(0)\n",
    "    \n",
    "    \n",
    "    def first(self):\n",
    "        if self.is_empty():\n",
    "            raise Empty('Queue is empty')\n",
    "        return self._data[0]\n",
    "    \n",
    "    def sum(self):\n",
    "        return sum(self._data)"
   ]
  },
  {
   "cell_type": "code",
   "execution_count": 2,
   "metadata": {},
   "outputs": [
    {
     "name": "stdout",
     "output_type": "stream",
     "text": [
      "[4, 1, 2, 3]\n"
     ]
    },
    {
     "data": {
      "text/plain": [
       "4"
      ]
     },
     "execution_count": 2,
     "metadata": {},
     "output_type": "execute_result"
    }
   ],
   "source": [
    "A = Queue()\n",
    "for num in (4, 1, 2, 3):\n",
    "    A.enqueue(num)\n",
    "\n",
    "print(A)\n",
    "A.first()"
   ]
  },
  {
   "attachments": {},
   "cell_type": "markdown",
   "metadata": {},
   "source": [
    "Class Stream"
   ]
  },
  {
   "cell_type": "code",
   "execution_count": 3,
   "metadata": {},
   "outputs": [
    {
     "name": "stdout",
     "output_type": "stream",
     "text": [
      "3.0\n",
      "2.5\n",
      "2.0\n",
      "2.6666666666666665\n",
      "4.333333333333333\n"
     ]
    }
   ],
   "source": [
    "class Stream:\n",
    "    def __init__(self, k):\n",
    "        self.data = []\n",
    "        self.k = k\n",
    "\n",
    "\n",
    "    def forward(self, e):\n",
    "        self.data.append(e)\n",
    "\n",
    "        if len(self.data) < self.k:\n",
    "            mean = sum(self.data)/len(self.data)\n",
    "        else:\n",
    "            mean = sum(self.data[-self.k:])/self.k\n",
    "\n",
    "        return mean\n",
    "\n",
    "\n",
    "S = Stream(3)\n",
    "print(S.forward(3))\n",
    "print(S.forward(2))\n",
    "print(S.forward(1))\n",
    "print(S.forward(5))\n",
    "print(S.forward(7))\n"
   ]
  },
  {
   "cell_type": "code",
   "execution_count": 5,
   "metadata": {},
   "outputs": [
    {
     "name": "stdout",
     "output_type": "stream",
     "text": [
      "3.0\n",
      "2.5\n",
      "2.0\n",
      "2.6666666666666665\n",
      "4.333333333333333\n"
     ]
    }
   ],
   "source": [
    "class Stream:\n",
    "    def __init__(self, k):\n",
    "        self.data = Queue()\n",
    "        self.k = k\n",
    "\n",
    "\n",
    "    def forward(self, e):\n",
    "        if len(self.data) < self.k:\n",
    "            self.data.enqueue(e)\n",
    "            mean = self.data.sum()/len(self.data)\n",
    "        else:\n",
    "            self.data.dequeue()\n",
    "            self.data.enqueue(e)\n",
    "            mean = self.data.sum()/len(self.data)\n",
    "\n",
    "\n",
    "        return mean\n",
    "\n",
    "\n",
    "S = Stream(3)\n",
    "print(S.forward(3))\n",
    "print(S.forward(2))\n",
    "print(S.forward(1))\n",
    "print(S.forward(5))\n",
    "print(S.forward(7))\n"
   ]
  },
  {
   "cell_type": "code",
   "execution_count": null,
   "metadata": {},
   "outputs": [],
   "source": [
    "from queue import Empty\n",
    "\n",
    "\n",
    "class Queue:\n",
    "    \"\"\"FIFO Queue implementation using a Python list as underlying storage.\"\"\"\n",
    "\n",
    "    def __init__(self):\n",
    "        \"\"\" Create an empty queue \"\"\"\n",
    "        self._data = []\n",
    "        self._size = 0\n",
    "        self._front = 0\n",
    "\n",
    "    def __len__(self):\n",
    "        \"\"\" Return the number of elements in the queue \"\"\"\n",
    "        return self._size\n",
    "\n",
    "    def is_empty(self):\n",
    "        \"\"\" Return True if the queue is empty \"\"\"\n",
    "        return self._size == 0\n",
    "\n",
    "    def __repr__(self):\n",
    "        \"\"\" Return string representation of the queue \"\"\"\n",
    "        return str(self._data)\n",
    "\n",
    "    def first(self):\n",
    "        \"\"\" Return (but do not remove) the element at the front of the queue.\n",
    "        Raise Empty exception if the queue is empty. \"\"\"\n",
    "        if self. is_empty():\n",
    "            raise Empty('Queue is empty')\n",
    "        return self._data[self._front]\n",
    "\n",
    "    def dequeue(self):\n",
    "        \"\"\" Remove and return the first element of the queue.\n",
    "        Raise Empty exception if the queue is empty. \"\"\"\n",
    "        if self. is_empty():\n",
    "            raise Empty('Queue is empty')\n",
    "        answer = self._data[self._front]\n",
    "        self._data[self._front] = None\n",
    "        self._front = (self._front + 1) % len(self._data)\n",
    "        self._size -= 1\n",
    "        return answer\n",
    "        # help garbage collection\n",
    "\n",
    "    def enqueue(self, e):\n",
    "        \"\"\" Add an element to the back of queue \"\"\"\n",
    "        if self._size == len(self._data):\n",
    "            self.resize(2 * len(self._data))  # double the array size\n",
    "            avail = (self._front + self._size) % len(self._data)\n",
    "            self._data[avail] = e\n",
    "            self._size += 1\n",
    "\n",
    "    def resize(self, cap):  # we assume cap >= len(self)\n",
    "        \"\"\" Resize to a new list of capacity >= len(self). \"\"\"\n",
    "        old = self._data\n",
    "        self._data = [None] * cap\n",
    "        walk = self._front\n",
    "        for k in range(self._size):\n",
    "            self._data[k] = old[walk]\n",
    "        walk = (1 + walk) % len(old)\n",
    "        self._front = 0\n",
    "\n"
   ]
  }
 ],
 "metadata": {
  "kernelspec": {
   "display_name": "Python 3",
   "language": "python",
   "name": "python3"
  },
  "language_info": {
   "codemirror_mode": {
    "name": "ipython",
    "version": 3
   },
   "file_extension": ".py",
   "mimetype": "text/x-python",
   "name": "python",
   "nbconvert_exporter": "python",
   "pygments_lexer": "ipython3",
   "version": "3.10.8"
  },
  "orig_nbformat": 4,
  "vscode": {
   "interpreter": {
    "hash": "aee8b7b246df8f9039afb4144a1f6fd8d2ca17a180786b69acc140d282b71a49"
   }
  }
 },
 "nbformat": 4,
 "nbformat_minor": 2
}
